{
  "nbformat": 4,
  "nbformat_minor": 0,
  "metadata": {
    "colab": {
      "name": "Assignment_1.ipynb",
      "provenance": [],
      "collapsed_sections": [],
      "authorship_tag": "ABX9TyOpTDG661CO678d9IOFzGUX",
      "include_colab_link": true
    },
    "kernelspec": {
      "name": "python3",
      "display_name": "Python 3"
    }
  },
  "cells": [
    {
      "cell_type": "markdown",
      "metadata": {
        "id": "view-in-github",
        "colab_type": "text"
      },
      "source": [
        "<a href=\"https://colab.research.google.com/github/Ananyadevaraju/CE888---Assignment-1/blob/main/Assignment_1.ipynb\" target=\"_parent\"><img src=\"https://colab.research.google.com/assets/colab-badge.svg\" alt=\"Open In Colab\"/></a>"
      ]
    },
    {
      "cell_type": "markdown",
      "metadata": {
        "id": "UDiBz-kJlpIu"
      },
      "source": [
        "Bias in Machine Learning Algorithms"
      ]
    },
    {
      "cell_type": "markdown",
      "metadata": {
        "id": "nOFQN19SlpFQ"
      },
      "source": [
        "Importing libraries:"
      ]
    },
    {
      "cell_type": "code",
      "metadata": {
        "id": "zQSXNjGSiMr7"
      },
      "source": [
        "#import libraries\r\n",
        "\r\n",
        "import pandas as pd\r\n",
        "import numpy as np\r\n",
        "from datetime import datetime \r\n",
        "#data visualization\r\n",
        "import matplotlib.pyplot as plt\r\n",
        "import seaborn as sns\r\n",
        "\r\n",
        "#label encoder\r\n",
        "from sklearn.preprocessing import LabelEncoder\r\n",
        "#train-test-split and cross validation\r\n",
        "from sklearn.model_selection import train_test_split, cross_val_score\r\n",
        "#classifier\r\n",
        "from sklearn.ensemble import RandomForestClassifier\r\n",
        "#feature selection\r\n",
        "from sklearn.model_selection import GridSearchCV\r\n",
        "from sklearn.feature_selection import RFE\r\n",
        "\r\n",
        "#scalers\r\n",
        "from sklearn.preprocessing import StandardScaler\r\n",
        "\r\n",
        "#aif360\r\n",
        "#fairness metrics\r\n",
        "# from aif360.metrics import BinaryLabelDatasetMetric\r\n",
        "# from aif360.metrics import ClassificationMetric\r\n",
        "\r\n",
        "#explainers\r\n",
        "# from aif360.explainers import MetricTextExplainer\r\n",
        "\r\n",
        "#bias mitigation techniques\r\n",
        "# from aif360.algorithms.preprocessing import Reweighing\r\n",
        "# from aif360.algorithms.inprocessing import PrejudiceRemover\r\n",
        "\r\n",
        "#LIME - model interpretation\r\n",
        "# from aif360.datasets.lime_encoder import LimeEncoder\r\n",
        "# import lime\r\n",
        "# from lime.lime_tabular import LimeTabularExplainer\r\n",
        "\r\n",
        "pd.set_option('display.max_rows',1000)"
      ],
      "execution_count": 76,
      "outputs": []
    },
    {
      "cell_type": "markdown",
      "metadata": {
        "id": "KvkA89Kyl2CY"
      },
      "source": [
        "Loading data:"
      ]
    },
    {
      "cell_type": "markdown",
      "metadata": {
        "id": "RHy90iLR3SiC"
      },
      "source": [
        "This dataset is obtained from https://www1.nyc.gov/site/nypd/stats/reports-analysis/stopfrisk.page, which contains records of stop, question and frisk in 2019, from the NYPD database. The dataframe has 13,459 observations and infomration on 83 variables."
      ]
    },
    {
      "cell_type": "code",
      "metadata": {
        "id": "MmqF3M_Sl0os"
      },
      "source": [
        "#load data \r\n",
        "df = pd.read_csv(\"https://raw.githubusercontent.com/Ananyadevaraju/CE888/main/Assignment_1/sqf-2019.csv\")"
      ],
      "execution_count": 2,
      "outputs": []
    },
    {
      "cell_type": "code",
      "metadata": {
        "colab": {
          "base_uri": "https://localhost:8080/"
        },
        "id": "ZTx0BHGgGx2z",
        "outputId": "40a35083-5bea-4a6c-af60-bb214a33c5ce"
      },
      "source": [
        "#shape of the dataframe\r\n",
        "df.shape"
      ],
      "execution_count": 3,
      "outputs": [
        {
          "output_type": "execute_result",
          "data": {
            "text/plain": [
              "(13459, 83)"
            ]
          },
          "metadata": {
            "tags": []
          },
          "execution_count": 3
        }
      ]
    },
    {
      "cell_type": "code",
      "metadata": {
        "colab": {
          "base_uri": "https://localhost:8080/"
        },
        "id": "sVJJY-EiHIRy",
        "outputId": "762841fa-37c8-45b3-c307-14740971e197"
      },
      "source": [
        "#columns names in the dataframe\r\n",
        "df.columns"
      ],
      "execution_count": 4,
      "outputs": [
        {
          "output_type": "execute_result",
          "data": {
            "text/plain": [
              "Index(['STOP_ID_ANONY', 'STOP_FRISK_DATE', 'STOP_FRISK_TIME', 'YEAR2',\n",
              "       'MONTH2', 'DAY2', 'STOP_WAS_INITIATED', 'RECORD_STATUS_CODE',\n",
              "       'ISSUING_OFFICER_RANK', 'ISSUING_OFFICER_COMMAND_CODE',\n",
              "       'SUPERVISING_OFFICER_RANK', 'SUPERVISING_OFFICER_COMMAND_CODE',\n",
              "       'LOCATION_IN_OUT_CODE', 'JURISDICTION_CODE', 'JURISDICTION_DESCRIPTION',\n",
              "       'OBSERVED_DURATION_MINUTES', 'SUSPECTED_CRIME_DESCRIPTION',\n",
              "       'STOP_DURATION_MINUTES', 'OFFICER_EXPLAINED_STOP_FLAG',\n",
              "       'OFFICER_NOT_EXPLAINED_STOP_DESCRIPTION', 'OTHER_PERSON_STOPPED_FLAG',\n",
              "       'SUSPECT_ARRESTED_FLAG', 'SUSPECT_ARREST_OFFENSE',\n",
              "       'SUMMONS_ISSUED_FLAG', 'SUMMONS_OFFENSE_DESCRIPTION',\n",
              "       'OFFICER_IN_UNIFORM_FLAG', 'ID_CARD_IDENTIFIES_OFFICER_FLAG',\n",
              "       'SHIELD_IDENTIFIES_OFFICER_FLAG', 'VERBAL_IDENTIFIES_OFFICER_FLAG',\n",
              "       'FRISKED_FLAG', 'SEARCHED_FLAG', 'ASK_FOR_CONSENT_FLG',\n",
              "       'CONSENT_GIVEN_FLG', 'OTHER_CONTRABAND_FLAG', 'FIREARM_FLAG',\n",
              "       'KNIFE_CUTTER_FLAG', 'OTHER_WEAPON_FLAG', 'WEAPON_FOUND_FLAG',\n",
              "       'PHYSICAL_FORCE_CEW_FLAG', 'PHYSICAL_FORCE_DRAW_POINT_FIREARM_FLAG',\n",
              "       'PHYSICAL_FORCE_HANDCUFF_SUSPECT_FLAG',\n",
              "       'PHYSICAL_FORCE_OC_SPRAY_USED_FLAG', 'PHYSICAL_FORCE_OTHER_FLAG',\n",
              "       'PHYSICAL_FORCE_RESTRAINT_USED_FLAG',\n",
              "       'PHYSICAL_FORCE_VERBAL_INSTRUCTION_FLAG',\n",
              "       'PHYSICAL_FORCE_WEAPON_IMPACT_FLAG',\n",
              "       'BACKROUND_CIRCUMSTANCES_VIOLENT_CRIME_FLAG',\n",
              "       'BACKROUND_CIRCUMSTANCES_SUSPECT_KNOWN_TO_CARRY_WEAPON_FLAG',\n",
              "       'SUSPECTS_ACTIONS_CASING_FLAG',\n",
              "       'SUSPECTS_ACTIONS_CONCEALED_POSSESSION_WEAPON_FLAG',\n",
              "       'SUSPECTS_ACTIONS_DECRIPTION_FLAG',\n",
              "       'SUSPECTS_ACTIONS_DRUG_TRANSACTIONS_FLAG',\n",
              "       'SUSPECTS_ACTIONS_IDENTIFY_CRIME_PATTERN_FLAG',\n",
              "       'SUSPECTS_ACTIONS_LOOKOUT_FLAG', 'SUSPECTS_ACTIONS_OTHER_FLAG',\n",
              "       'SUSPECTS_ACTIONS_PROXIMITY_TO_SCENE_FLAG',\n",
              "       'SEARCH_BASIS_ADMISSION_FLAG', 'SEARCH_BASIS_CONSENT_FLAG',\n",
              "       'SEARCH_BASIS_HARD_OBJECT_FLAG',\n",
              "       'SEARCH_BASIS_INCIDENTAL_TO_ARREST_FLAG', 'SEARCH_BASIS_OTHER_FLAG',\n",
              "       'SEARCH_BASIS_OUTLINE_FLAG', 'DEMEANOR_CODE',\n",
              "       'DEMEANOR_OF_PERSON_STOPPED', 'SUSPECT_REPORTED_AGE', 'SUSPECT_SEX',\n",
              "       'SUSPECT_RACE_DESCRIPTION', 'SUSPECT_HEIGHT', 'SUSPECT_WEIGHT',\n",
              "       'SUSPECT_BODY_BUILD_TYPE', 'SUSPECT_EYE_COLOR', 'SUSPECT_HAIR_COLOR',\n",
              "       'SUSPECT_OTHER_DESCRIPTION', 'STOP_LOCATION_PRECINCT',\n",
              "       'STOP_LOCATION_SECTOR_CODE', 'STOP_LOCATION_APARTMENT',\n",
              "       'STOP_LOCATION_FULL_ADDRESS', 'STOP_LOCATION_STREET_NAME',\n",
              "       'STOP_LOCATION_X', 'STOP_LOCATION_Y', 'STOP_LOCATION_ZIP_CODE',\n",
              "       'STOP_LOCATION_PATROL_BORO_NAME', 'STOP_LOCATION_BORO_NAME'],\n",
              "      dtype='object')"
            ]
          },
          "metadata": {
            "tags": []
          },
          "execution_count": 4
        }
      ]
    },
    {
      "cell_type": "markdown",
      "metadata": {
        "id": "a6iP8B-4BQM2"
      },
      "source": [
        "Missing data:"
      ]
    },
    {
      "cell_type": "code",
      "metadata": {
        "colab": {
          "base_uri": "https://localhost:8080/"
        },
        "id": "haYTtQtq3utF",
        "outputId": "677e524c-d2d8-47aa-d666-624e61a2632f"
      },
      "source": [
        "#checking for NaN values\r\n",
        "df.isnull().sum()"
      ],
      "execution_count": 5,
      "outputs": [
        {
          "output_type": "execute_result",
          "data": {
            "text/plain": [
              "STOP_ID_ANONY                     0\n",
              "STOP_FRISK_DATE                   0\n",
              "STOP_FRISK_TIME                   0\n",
              "YEAR2                             0\n",
              "MONTH2                            0\n",
              "                                 ..\n",
              "STOP_LOCATION_X                   0\n",
              "STOP_LOCATION_Y                   0\n",
              "STOP_LOCATION_ZIP_CODE            0\n",
              "STOP_LOCATION_PATROL_BORO_NAME    0\n",
              "STOP_LOCATION_BORO_NAME           0\n",
              "Length: 83, dtype: int64"
            ]
          },
          "metadata": {
            "tags": []
          },
          "execution_count": 5
        }
      ]
    },
    {
      "cell_type": "markdown",
      "metadata": {
        "id": "Xw1bwSWDBYp4"
      },
      "source": [
        "Drop columns:"
      ]
    },
    {
      "cell_type": "code",
      "metadata": {
        "colab": {
          "base_uri": "https://localhost:8080/"
        },
        "id": "DCNw52DT9CG2",
        "outputId": "06d6d19f-06f0-4ab5-8c50-1d6020bf7916"
      },
      "source": [
        "df[\"YEAR2\"].value_counts()"
      ],
      "execution_count": 7,
      "outputs": [
        {
          "output_type": "execute_result",
          "data": {
            "text/plain": [
              "2019    13459\n",
              "Name: YEAR2, dtype: int64"
            ]
          },
          "metadata": {
            "tags": []
          },
          "execution_count": 7
        }
      ]
    },
    {
      "cell_type": "code",
      "metadata": {
        "colab": {
          "base_uri": "https://localhost:8080/"
        },
        "id": "o0-pcPec9CEZ",
        "outputId": "ed2fc370-2e24-4fbe-e435-eb79b9c8b3ea"
      },
      "source": [
        "df[\"RECORD_STATUS_CODE\"].value_counts()"
      ],
      "execution_count": 8,
      "outputs": [
        {
          "output_type": "execute_result",
          "data": {
            "text/plain": [
              "APP    13459\n",
              "Name: RECORD_STATUS_CODE, dtype: int64"
            ]
          },
          "metadata": {
            "tags": []
          },
          "execution_count": 8
        }
      ]
    },
    {
      "cell_type": "code",
      "metadata": {
        "colab": {
          "base_uri": "https://localhost:8080/"
        },
        "id": "xMUEl4339CBJ",
        "outputId": "31d07d3b-418e-49d1-86da-62dcb536b452"
      },
      "source": [
        "df[\"PHYSICAL_FORCE_RESTRAINT_USED_FLAG\"].value_counts()"
      ],
      "execution_count": 9,
      "outputs": [
        {
          "output_type": "execute_result",
          "data": {
            "text/plain": [
              "(null)    13459\n",
              "Name: PHYSICAL_FORCE_RESTRAINT_USED_FLAG, dtype: int64"
            ]
          },
          "metadata": {
            "tags": []
          },
          "execution_count": 9
        }
      ]
    },
    {
      "cell_type": "code",
      "metadata": {
        "id": "CN9ef9MN5a1N"
      },
      "source": [
        "#dropping columns with same class/value for all observations\r\n",
        "stop_search_df = df.drop(columns = [\"YEAR2\", \"RECORD_STATUS_CODE\", \"PHYSICAL_FORCE_RESTRAINT_USED_FLAG\"], axis = 1)"
      ],
      "execution_count": 10,
      "outputs": []
    },
    {
      "cell_type": "code",
      "metadata": {
        "id": "18c2P6Xw5axz"
      },
      "source": [
        "#dropping redundant columns (example: code and its description for a feature)\r\n",
        "stop_search_df = stop_search_df.drop(columns = [\"JURISDICTION_CODE\", \"DEMEANOR_CODE\"], axis = 1)"
      ],
      "execution_count": 11,
      "outputs": []
    },
    {
      "cell_type": "code",
      "metadata": {
        "id": "8pVSXAcA5av6"
      },
      "source": [
        "#dropping columns with information about the officers which are irrelevant for this study\r\n",
        "stop_search_df.drop(columns = [\"ID_CARD_IDENTIFIES_OFFICER_FLAG\", \"SHIELD_IDENTIFIES_OFFICER_FLAG\", \"VERBAL_IDENTIFIES_OFFICER_FLAG\"], axis = 1, inplace = True) "
      ],
      "execution_count": 12,
      "outputs": []
    },
    {
      "cell_type": "code",
      "metadata": {
        "id": "z8YsJcFw5auC"
      },
      "source": [
        "#dropping feature columns information on location which are not being used in this study(like latitude, longitude and retaining necessary information on location)\r\n",
        "stop_search_df.drop(columns = [\"STOP_LOCATION_APARTMENT\", \"STOP_LOCATION_FULL_ADDRESS\", \"STOP_LOCATION_X\", \"STOP_LOCATION_Y\"], axis = 1, inplace = True)"
      ],
      "execution_count": 13,
      "outputs": []
    },
    {
      "cell_type": "code",
      "metadata": {
        "colab": {
          "base_uri": "https://localhost:8080/"
        },
        "id": "wWjBJpAJAYQY",
        "outputId": "9c684448-b62c-44a1-8892-8ef11b4187fe"
      },
      "source": [
        "stop_search_df.shape"
      ],
      "execution_count": 19,
      "outputs": [
        {
          "output_type": "execute_result",
          "data": {
            "text/plain": [
              "(13459, 71)"
            ]
          },
          "metadata": {
            "tags": []
          },
          "execution_count": 19
        }
      ]
    },
    {
      "cell_type": "markdown",
      "metadata": {
        "id": "6kKM_wL4BgEB"
      },
      "source": [
        "Data transformation:\r\n",
        "\r\n"
      ]
    },
    {
      "cell_type": "code",
      "metadata": {
        "colab": {
          "base_uri": "https://localhost:8080/"
        },
        "id": "GXTGSOxxBMQd",
        "outputId": "4aaa1632-e0ef-4a7f-bb30-3fe2aadb27a8"
      },
      "source": [
        "#gender feature - count of each class, male and female\r\n",
        "stop_search_df[\"SUSPECT_SEX\"].value_counts()"
      ],
      "execution_count": 17,
      "outputs": [
        {
          "output_type": "execute_result",
          "data": {
            "text/plain": [
              "MALE       12179\n",
              "FEMALE      1230\n",
              "Unknown       50\n",
              "Name: SUSPECT_SEX, dtype: int64"
            ]
          },
          "metadata": {
            "tags": []
          },
          "execution_count": 17
        }
      ]
    },
    {
      "cell_type": "code",
      "metadata": {
        "id": "6R87a-4tOBJw"
      },
      "source": [
        "#replacing (null) values with Unknown\r\n",
        "stop_search_df[\"SUSPECT_SEX\"] = stop_search_df[\"SUSPECT_SEX\"].replace(to_replace = [\"(null)\"], value = \"Unknown\")"
      ],
      "execution_count": 16,
      "outputs": []
    },
    {
      "cell_type": "code",
      "metadata": {
        "colab": {
          "base_uri": "https://localhost:8080/"
        },
        "id": "AWuk_pyhAikV",
        "outputId": "e6944bbd-fd1c-40b0-e463-7cfb8caca2f1"
      },
      "source": [
        "#value counts of diffferent races stopped \r\n",
        "stop_search_df[\"SUSPECT_RACE_DESCRIPTION\"].value_counts() "
      ],
      "execution_count": 20,
      "outputs": [
        {
          "output_type": "execute_result",
          "data": {
            "text/plain": [
              "BLACK                        7981\n",
              "WHITE HISPANIC               2742\n",
              "WHITE                        1215\n",
              "BLACK HISPANIC               1127\n",
              "ASIAN / PACIFIC ISLANDER      301\n",
              "(null)                         85\n",
              "AMERICAN INDIAN/ALASKAN N       8\n",
              "Name: SUSPECT_RACE_DESCRIPTION, dtype: int64"
            ]
          },
          "metadata": {
            "tags": []
          },
          "execution_count": 20
        }
      ]
    },
    {
      "cell_type": "code",
      "metadata": {
        "colab": {
          "base_uri": "https://localhost:8080/"
        },
        "id": "ag5ZxrTGBMNw",
        "outputId": "c7022c0a-9a00-4c47-cec7-544fb4153b8a"
      },
      "source": [
        "#replace (null) values with Unknown\r\n",
        "stop_search_df[\"SUSPECT_RACE_DESCRIPTION\"] = stop_search_df[\"SUSPECT_RACE_DESCRIPTION\"].replace(to_replace = [\"(null)\"], value = \"Unknown\")\r\n",
        "\r\n",
        "\r\n",
        "#converting all classes other than Whites as Non-Whites - creating binary sensitive variable\r\n",
        "\r\n",
        "race = []\r\n",
        "for x in stop_search_df[\"SUSPECT_RACE_DESCRIPTION\"]:\r\n",
        "  if x == \"WHITE\":\r\n",
        "    y = \"White\"  \r\n",
        "  elif x == \"Unknown\":\r\n",
        "    y = \"Unknown\"\r\n",
        "  else:\r\n",
        "    y = \"Non-White\"     \r\n",
        "  race.append(y)       \r\n",
        "  \r\n",
        "stop_search_df[\"RACE\"] = race              \r\n",
        "\r\n",
        "#value_counts\r\n",
        "stop_search_df[\"RACE\"].value_counts() "
      ],
      "execution_count": 25,
      "outputs": [
        {
          "output_type": "execute_result",
          "data": {
            "text/plain": [
              "Non-White    12159\n",
              "White         1215\n",
              "Unknown         85\n",
              "Name: RACE, dtype: int64"
            ]
          },
          "metadata": {
            "tags": []
          },
          "execution_count": 25
        }
      ]
    },
    {
      "cell_type": "code",
      "metadata": {
        "id": "nQKY0M54J_qu"
      },
      "source": [
        "#extracting hour from time column\r\n",
        "stop_search_df[\"Parts_of_day\"] = pd.to_datetime(stop_search_df[\"STOP_FRISK_TIME\"], format = \"%H:%M:%S\").dt.hour\r\n",
        "#converting into day or not\r\n",
        "\r\n",
        "#converting time into parts of day\r\n",
        "Parts_of_day = []\r\n",
        "for t in stop_search_df[\"Parts_of_day\"]:\r\n",
        "  if t >= 0 & t < 6:\r\n",
        "    part = \"Night\"\r\n",
        "  else:\r\n",
        "    part = \"Day\"\r\n",
        "  Parts_of_day.append(part)  \r\n",
        "\r\n",
        "#adding new column \"Parts_of_day\" to the dataframe\r\n",
        "stop_search_df[\"Parts_of_day\"] = Parts_of_day"
      ],
      "execution_count": 86,
      "outputs": []
    },
    {
      "cell_type": "code",
      "metadata": {
        "colab": {
          "base_uri": "https://localhost:8080/"
        },
        "id": "feANGvCook3B",
        "outputId": "cbb8110f-76a5-4f5a-8417-23ed21f19f79"
      },
      "source": [
        "stop_search_df[\"Parts_of_day\"].value_counts()"
      ],
      "execution_count": 84,
      "outputs": [
        {
          "output_type": "execute_result",
          "data": {
            "text/plain": [
              "Night    13459\n",
              "Name: Parts_of_day, dtype: int64"
            ]
          },
          "metadata": {
            "tags": []
          },
          "execution_count": 84
        }
      ]
    },
    {
      "cell_type": "code",
      "metadata": {
        "colab": {
          "base_uri": "https://localhost:8080/"
        },
        "id": "sVPmMIYrj9GM",
        "outputId": "f5516fa8-7e16-42f3-d99c-af7b36548e1f"
      },
      "source": [
        "stop_search_df[\"Parts_of_day\"].value_counts()"
      ],
      "execution_count": 73,
      "outputs": [
        {
          "output_type": "execute_result",
          "data": {
            "text/plain": [
              "Night    13459\n",
              "Name: Parts_of_day, dtype: int64"
            ]
          },
          "metadata": {
            "tags": []
          },
          "execution_count": 73
        }
      ]
    },
    {
      "cell_type": "markdown",
      "metadata": {
        "id": "gjLeQTjvBHV2"
      },
      "source": [
        "Is the data imbalanced?\r\n"
      ]
    },
    {
      "cell_type": "code",
      "metadata": {
        "colab": {
          "base_uri": "https://localhost:8080/"
        },
        "id": "k25If4HSDd9I",
        "outputId": "b6c8082c-6e25-4052-bfcd-40d3e1b5b666"
      },
      "source": [
        "#arrest feature count of each class\r\n",
        "stop_search_df[\"SUSPECT_ARRESTED_FLAG\"].value_counts()"
      ],
      "execution_count": 35,
      "outputs": [
        {
          "output_type": "execute_result",
          "data": {
            "text/plain": [
              "N    9151\n",
              "Y    4308\n",
              "Name: SUSPECT_ARRESTED_FLAG, dtype: int64"
            ]
          },
          "metadata": {
            "tags": []
          },
          "execution_count": 35
        }
      ]
    },
    {
      "cell_type": "code",
      "metadata": {
        "colab": {
          "base_uri": "https://localhost:8080/"
        },
        "id": "ldeFRmP-XKCG",
        "outputId": "438fffbf-de84-41b0-e0fd-bf83f3f9a478"
      },
      "source": [
        "#calculating imbalance in the data\r\n",
        "total_y = len(stop_search_df[\"SUSPECT_ARRESTED_FLAG\"])\r\n",
        "\r\n",
        "class_0 = (stop_search_df[\"SUSPECT_ARRESTED_FLAG\"] == \"N\").sum()\r\n",
        "class_1 = (stop_search_df[\"SUSPECT_ARRESTED_FLAG\"] == \"Y\").sum()\r\n",
        "\r\n",
        "#imbalance in classes\r\n",
        "percentage_class_0 = (class_0/total_y)*100\r\n",
        "print(\"Percentage of observations belonging to class N (Not arrested) = \" , percentage_class_0)"
      ],
      "execution_count": 36,
      "outputs": [
        {
          "output_type": "stream",
          "text": [
            "Percentage of observations belonging to class N (Not arrested) =  67.9916784307898\n"
          ],
          "name": "stdout"
        }
      ]
    },
    {
      "cell_type": "code",
      "metadata": {
        "colab": {
          "base_uri": "https://localhost:8080/",
          "height": 297
        },
        "id": "0Fwm1RolXkBT",
        "outputId": "c96798fb-0762-4387-a41b-cfec9e163134"
      },
      "source": [
        "#imbalance in data\r\n",
        "sns.countplot(x = \"SUSPECT_ARRESTED_FLAG\", data = stop_search_df)"
      ],
      "execution_count": 37,
      "outputs": [
        {
          "output_type": "execute_result",
          "data": {
            "text/plain": [
              "<matplotlib.axes._subplots.AxesSubplot at 0x7f1d0fb01610>"
            ]
          },
          "metadata": {
            "tags": []
          },
          "execution_count": 37
        },
        {
          "output_type": "display_data",
          "data": {
            "image/png": "[encoded data removed]",
            "text/plain": [
              "<Figure size 432x288 with 1 Axes>"
            ]
          },
          "metadata": {
            "tags": [],
            "needs_background": "light"
          }
        }
      ]
    },
    {
      "cell_type": "markdown",
      "metadata": {
        "id": "5DZkjAsnFnOg"
      },
      "source": [
        "Is the bias biased?\r\n"
      ]
    },
    {
      "cell_type": "code",
      "metadata": {
        "colab": {
          "base_uri": "https://localhost:8080/"
        },
        "id": "F5w-SJy9A_kz",
        "outputId": "ed63e36d-c5a3-4468-891a-24f668d949d6"
      },
      "source": [
        "#does the data suggest racial bias?\r\n",
        "#racial distribution of subjects stopped\r\n",
        "stop_search_df[\"RACE\"].value_counts()"
      ],
      "execution_count": 38,
      "outputs": [
        {
          "output_type": "execute_result",
          "data": {
            "text/plain": [
              "Non-White    12159\n",
              "White         1215\n",
              "Unknown         85\n",
              "Name: RACE, dtype: int64"
            ]
          },
          "metadata": {
            "tags": []
          },
          "execution_count": 38
        }
      ]
    },
    {
      "cell_type": "code",
      "metadata": {
        "colab": {
          "base_uri": "https://localhost:8080/",
          "height": 296
        },
        "id": "ZS1w5wQkXnKG",
        "outputId": "de0030eb-7a44-4329-a3b2-9f322f43e094"
      },
      "source": [
        "#racial distribution of subjects stopped\r\n",
        "sns.countplot(x = \"RACE\", data = stop_search_df)"
      ],
      "execution_count": 39,
      "outputs": [
        {
          "output_type": "execute_result",
          "data": {
            "text/plain": [
              "<matplotlib.axes._subplots.AxesSubplot at 0x7f1d0f0dccd0>"
            ]
          },
          "metadata": {
            "tags": []
          },
          "execution_count": 39
        },
        {
          "output_type": "display_data",
          "data": {
            "image/png": "[encoded data removed]",
            "text/plain": [
              "<Figure size 432x288 with 1 Axes>"
            ]
          },
          "metadata": {
            "tags": [],
            "needs_background": "light"
          }
        }
      ]
    },
    {
      "cell_type": "code",
      "metadata": {
        "colab": {
          "base_uri": "https://localhost:8080/",
          "height": 439
        },
        "id": "ktJb2H7Wd0U_",
        "outputId": "1751ef01-6826-46e0-88d1-eebb36d4b85a"
      },
      "source": [
        "#racial distribution of subjects stopped\r\n",
        "sns.countplot(x=\"SUSPECT_RACE_DESCRIPTION\", data=stop_search_df)\r\n",
        "plt.xticks(rotation=90)"
      ],
      "execution_count": 49,
      "outputs": [
        {
          "output_type": "execute_result",
          "data": {
            "text/plain": [
              "(array([0, 1, 2, 3, 4, 5, 6]), <a list of 7 Text major ticklabel objects>)"
            ]
          },
          "metadata": {
            "tags": []
          },
          "execution_count": 49
        },
        {
          "output_type": "display_data",
          "data": {
            "image/png": "[encoded data removed]",
            "text/plain": [
              "<Figure size 432x288 with 1 Axes>"
            ]
          },
          "metadata": {
            "tags": [],
            "needs_background": "light"
          }
        }
      ]
    },
    {
      "cell_type": "code",
      "metadata": {
        "colab": {
          "base_uri": "https://localhost:8080/"
        },
        "id": "xEUcE-nGA_jP",
        "outputId": "2c7a3e26-6e5d-41c5-d29b-b142f01f6fe9"
      },
      "source": [
        "#does the data suggest gender bias?\r\n",
        "stop_search_df[\"SUSPECT_SEX\"].value_counts()"
      ],
      "execution_count": 40,
      "outputs": [
        {
          "output_type": "execute_result",
          "data": {
            "text/plain": [
              "MALE       12179\n",
              "FEMALE      1230\n",
              "Unknown       50\n",
              "Name: SUSPECT_SEX, dtype: int64"
            ]
          },
          "metadata": {
            "tags": []
          },
          "execution_count": 40
        }
      ]
    },
    {
      "cell_type": "code",
      "metadata": {
        "colab": {
          "base_uri": "https://localhost:8080/",
          "height": 297
        },
        "id": "GTLaCUMbXrkN",
        "outputId": "1a4f22a8-d363-4023-c119-b45d53ec4be0"
      },
      "source": [
        "#count of different genders in the data\r\n",
        "sns.countplot(x=\"SUSPECT_SEX\", data=stop_search_df)"
      ],
      "execution_count": 41,
      "outputs": [
        {
          "output_type": "execute_result",
          "data": {
            "text/plain": [
              "<matplotlib.axes._subplots.AxesSubplot at 0x7f1d0f0c1b10>"
            ]
          },
          "metadata": {
            "tags": []
          },
          "execution_count": 41
        },
        {
          "output_type": "display_data",
          "data": {
            "image/png": "[encoded data removed]",
            "text/plain": [
              "<Figure size 432x288 with 1 Axes>"
            ]
          },
          "metadata": {
            "tags": [],
            "needs_background": "light"
          }
        }
      ]
    },
    {
      "cell_type": "code",
      "metadata": {
        "id": "yEh2BZLWG9-d"
      },
      "source": [
        "#gender distribution among the arrested subjects\r\n"
      ],
      "execution_count": 43,
      "outputs": []
    },
    {
      "cell_type": "code",
      "metadata": {
        "colab": {
          "base_uri": "https://localhost:8080/",
          "height": 301
        },
        "id": "gLm0ufXHb254",
        "outputId": "d7d8bdee-d5ed-41ae-e11b-b33e1222dadb"
      },
      "source": [
        "#frisk data\r\n",
        "sns.countplot(x = \"FRISKED_FLAG\", data = stop_search_df)"
      ],
      "execution_count": 42,
      "outputs": [
        {
          "output_type": "execute_result",
          "data": {
            "text/plain": [
              "<matplotlib.axes._subplots.AxesSubplot at 0x7f1d0eedca10>"
            ]
          },
          "metadata": {
            "tags": []
          },
          "execution_count": 42
        },
        {
          "output_type": "display_data",
          "data": {
            "image/png": "[encoded data removed]",
            "text/plain": [
              "<Figure size 432x288 with 1 Axes>"
            ]
          },
          "metadata": {
            "tags": [],
            "needs_background": "light"
          }
        }
      ]
    },
    {
      "cell_type": "code",
      "metadata": {
        "colab": {
          "base_uri": "https://localhost:8080/",
          "height": 296
        },
        "id": "FSkFyrc0guhD",
        "outputId": "a0fafaf4-c4c4-4ed3-bf3c-2e5dfedb1c45"
      },
      "source": [
        "#racial distribution of subjects frisked\r\n",
        "frisked_df = stop_search_df[stop_search_df[\"FRISKED_FLAG\"] == \"Y\"]\r\n",
        "sns.countplot(x = \"RACE\", data = frisked_df)"
      ],
      "execution_count": 53,
      "outputs": [
        {
          "output_type": "execute_result",
          "data": {
            "text/plain": [
              "<matplotlib.axes._subplots.AxesSubplot at 0x7f1d0eaa4ed0>"
            ]
          },
          "metadata": {
            "tags": []
          },
          "execution_count": 53
        },
        {
          "output_type": "display_data",
          "data": {
            "image/png": "[encoded data removed]",
            "text/plain": [
              "<Figure size 432x288 with 1 Axes>"
            ]
          },
          "metadata": {
            "tags": [],
            "needs_background": "light"
          }
        }
      ]
    },
    {
      "cell_type": "code",
      "metadata": {
        "colab": {
          "base_uri": "https://localhost:8080/",
          "height": 297
        },
        "id": "RFXNT7HMg0lM",
        "outputId": "2ecbf437-5b23-439c-eda0-d48d53336ca7"
      },
      "source": [
        "#gender distribution of subjects frisked\r\n",
        "sns.countplot(x = \"SUSPECT_SEX\", data = frisked_df)"
      ],
      "execution_count": 54,
      "outputs": [
        {
          "output_type": "execute_result",
          "data": {
            "text/plain": [
              "<matplotlib.axes._subplots.AxesSubplot at 0x7f1d0ea84190>"
            ]
          },
          "metadata": {
            "tags": []
          },
          "execution_count": 54
        },
        {
          "output_type": "display_data",
          "data": {
            "image/png": "[encoded data removed]",
            "text/plain": [
              "<Figure size 432x288 with 1 Axes>"
            ]
          },
          "metadata": {
            "tags": [],
            "needs_background": "light"
          }
        }
      ]
    },
    {
      "cell_type": "code",
      "metadata": {
        "colab": {
          "base_uri": "https://localhost:8080/",
          "height": 297
        },
        "id": "JZ8IJf_CcSbZ",
        "outputId": "68ebb32e-fd64-4ae1-8a03-afc0f04fb1a4"
      },
      "source": [
        "#searched data\r\n",
        "sns.countplot(x = \"SEARCHED_FLAG\", data = stop_search_df)"
      ],
      "execution_count": 43,
      "outputs": [
        {
          "output_type": "execute_result",
          "data": {
            "text/plain": [
              "<matplotlib.axes._subplots.AxesSubplot at 0x7f1d0eeb6150>"
            ]
          },
          "metadata": {
            "tags": []
          },
          "execution_count": 43
        },
        {
          "output_type": "display_data",
          "data": {
            "image/png": "[encoded data removed]",
            "text/plain": [
              "<Figure size 432x288 with 1 Axes>"
            ]
          },
          "metadata": {
            "tags": [],
            "needs_background": "light"
          }
        }
      ]
    },
    {
      "cell_type": "code",
      "metadata": {
        "colab": {
          "base_uri": "https://localhost:8080/",
          "height": 296
        },
        "id": "KrUbQf9FGz2c",
        "outputId": "95886ebd-0fea-4c7d-efdd-de2cd3d303cb"
      },
      "source": [
        "#racial distributions of subjects searched\r\n",
        "searched_df = stop_search_df[stop_search_df[\"SEARCHED_FLAG\"] == \"Y\"]\r\n",
        "sns.countplot(x = \"RACE\", data = searched_df)"
      ],
      "execution_count": 55,
      "outputs": [
        {
          "output_type": "execute_result",
          "data": {
            "text/plain": [
              "<matplotlib.axes._subplots.AxesSubplot at 0x7f1d0f031490>"
            ]
          },
          "metadata": {
            "tags": []
          },
          "execution_count": 55
        },
        {
          "output_type": "display_data",
          "data": {
            "image/png": "[encoded data removed]",
            "text/plain": [
              "<Figure size 432x288 with 1 Axes>"
            ]
          },
          "metadata": {
            "tags": [],
            "needs_background": "light"
          }
        }
      ]
    },
    {
      "cell_type": "code",
      "metadata": {
        "colab": {
          "base_uri": "https://localhost:8080/",
          "height": 297
        },
        "id": "dTtizogagbZw",
        "outputId": "a6ed3fe1-cbf9-4d47-ff5b-37b28c2faed2"
      },
      "source": [
        "#gender distributions of subjects searched\r\n",
        "sns.countplot(x = \"SUSPECT_SEX\", data = searched_df)"
      ],
      "execution_count": 56,
      "outputs": [
        {
          "output_type": "execute_result",
          "data": {
            "text/plain": [
              "<matplotlib.axes._subplots.AxesSubplot at 0x7f1d0e964710>"
            ]
          },
          "metadata": {
            "tags": []
          },
          "execution_count": 56
        },
        {
          "output_type": "display_data",
          "data": {
            "image/png": "[encoded data removed]",
            "text/plain": [
              "<Figure size 432x288 with 1 Axes>"
            ]
          },
          "metadata": {
            "tags": [],
            "needs_background": "light"
          }
        }
      ]
    },
    {
      "cell_type": "code",
      "metadata": {
        "colab": {
          "base_uri": "https://localhost:8080/",
          "height": 296
        },
        "id": "vKmeDiQVGzxL",
        "outputId": "b060190d-6f43-4d39-9cb2-76ce4f6b20b3"
      },
      "source": [
        "#veil of darkness\r\n",
        "#racial distributions of subjects during day\r\n",
        "day_df = stop_search_df[stop_search_df[\"Parts_of_day\"] == \"Day\"]\r\n",
        "sns.countplot(x = \"RACE\", data = day_df)"
      ],
      "execution_count": 57,
      "outputs": [
        {
          "output_type": "execute_result",
          "data": {
            "text/plain": [
              "<matplotlib.axes._subplots.AxesSubplot at 0x7f1d0e950090>"
            ]
          },
          "metadata": {
            "tags": []
          },
          "execution_count": 57
        },
        {
          "output_type": "display_data",
          "data": {
            "image/png": "[encoded data removed]",
            "text/plain": [
              "<Figure size 432x288 with 1 Axes>"
            ]
          },
          "metadata": {
            "tags": [],
            "needs_background": "light"
          }
        }
      ]
    },
    {
      "cell_type": "code",
      "metadata": {
        "colab": {
          "base_uri": "https://localhost:8080/",
          "height": 439
        },
        "id": "vt4S4JCni8rs",
        "outputId": "e5a5a2c5-8842-4541-e63c-edc808c73fd6"
      },
      "source": [
        "sns.countplot(x = \"SUSPECT_RACE_DESCRIPTION\", data = day_df)\r\n",
        "plt.xticks(rotation=90)"
      ],
      "execution_count": 59,
      "outputs": [
        {
          "output_type": "execute_result",
          "data": {
            "text/plain": [
              "(array([0, 1, 2, 3, 4, 5, 6]), <a list of 7 Text major ticklabel objects>)"
            ]
          },
          "metadata": {
            "tags": []
          },
          "execution_count": 59
        },
        {
          "output_type": "display_data",
          "data": {
            "image/png": "[encoded data removed]",
            "text/plain": [
              "<Figure size 432x288 with 1 Axes>"
            ]
          },
          "metadata": {
            "tags": [],
            "needs_background": "light"
          }
        }
      ]
    },
    {
      "cell_type": "code",
      "metadata": {
        "id": "BheIVLOci8oI"
      },
      "source": [
        "night_df = stop_search_df[stop_search_df[\"Parts_of_day\"] == \"Night\"]\r\n",
        "# sns.countplot(x = \"SUSPECT_RACE_DESCRIPTION\", data = night_df)"
      ],
      "execution_count": 62,
      "outputs": []
    },
    {
      "cell_type": "code",
      "metadata": {
        "colab": {
          "base_uri": "https://localhost:8080/"
        },
        "id": "-qi15Y5Gi8eC",
        "outputId": "49bf695f-3a49-42fc-d4ad-0e78dbced995"
      },
      "source": [
        "stop_search_df[\"Parts_of_day\"].value_counts()"
      ],
      "execution_count": 64,
      "outputs": [
        {
          "output_type": "execute_result",
          "data": {
            "text/plain": [
              "Day    13459\n",
              "Name: Parts_of_day, dtype: int64"
            ]
          },
          "metadata": {
            "tags": []
          },
          "execution_count": 64
        }
      ]
    },
    {
      "cell_type": "code",
      "metadata": {
        "id": "fQF3DkcwGzrO"
      },
      "source": [
        "#racial distributions of subjects during night"
      ],
      "execution_count": null,
      "outputs": []
    },
    {
      "cell_type": "markdown",
      "metadata": {
        "id": "jhz9Jf9hnBlD"
      },
      "source": [
        "Data Preprocessing:"
      ]
    },
    {
      "cell_type": "code",
      "metadata": {
        "id": "e9ZJj8gCn-xu"
      },
      "source": [
        "#target column\r\n",
        "y_df = stop_search_df[\"SUSPECT_ARRESTED_FLAG\"]\r\n",
        "#label encoding target column\r\n",
        "y_df = y_df.apply(LabelEncoder().fit_transform)"
      ],
      "execution_count": null,
      "outputs": []
    },
    {
      "cell_type": "code",
      "metadata": {
        "id": "JvCd48mBNCoS"
      },
      "source": [
        "#features\r\n",
        "categorical_columns = [\"SUSPECTED_CRIME_DESCRIPTION\",\"SUSPECT_ARREST_OFFENSE\",\"SUMMONS_ISSUED_FLAG\",\"FRISKED_FLAG\",\"SEARCHED_FLAG\",\"OTHER_CONTRABAND_FLAG\",\r\n",
        "                       \"WEAPON_FOUND_FLAG\",\"SUSPECT_SEX\",\"SUSPECT_RACE_DESCRIPTION\",\"STOP_LOCATION_STREET_NAME\"]\r\n",
        "#one-hot encoding categorical input variables\r\n",
        "x_df = pd.get_dummies(stop_search_df[categorical_columns])"
      ],
      "execution_count": null,
      "outputs": []
    },
    {
      "cell_type": "code",
      "metadata": {
        "id": "FsH4SpKELxrA"
      },
      "source": [
        "#features\r\n",
        "numerical_columns = [\"STOP_DURATION_MINUTES\",\"SUSPECT_REPORTED_AGE\"]"
      ],
      "execution_count": null,
      "outputs": []
    },
    {
      "cell_type": "markdown",
      "metadata": {
        "id": "Wua5FB_UZbF0"
      },
      "source": [
        "Objective:"
      ]
    },
    {
      "cell_type": "markdown",
      "metadata": {
        "id": "hFQBdsPgZbAJ"
      },
      "source": [
        "We want to train a classification model to classify whether a subject stopped will be arrested or not. The objective is to analyze whether sensitive features like gender and race of the subject determines the outcome, arrest or no arrest."
      ]
    },
    {
      "cell_type": "markdown",
      "metadata": {
        "id": "IFYSwNS0Za99"
      },
      "source": [
        "The target/outcome variable is given by \"SUSPECT_ARRESTED_FLAG\" column in the dataset.\r\n"
      ]
    },
    {
      "cell_type": "markdown",
      "metadata": {
        "id": "9S5-W1ZEZsLG"
      },
      "source": [
        "We will initially select important attributes about subject like gender, race, frisk, search, suspicion as the input variables to train the model."
      ]
    },
    {
      "cell_type": "markdown",
      "metadata": {
        "id": "ITLaWiAMIVHD"
      },
      "source": [
        "Further, feature selection methods like Recursive Feature Elimination and GridSearchCV in scikit-learn will be used to find the important features for model training and performance."
      ]
    },
    {
      "cell_type": "markdown",
      "metadata": {
        "id": "nDC4SRDBaKvX"
      },
      "source": [
        "Sensitive features:"
      ]
    },
    {
      "cell_type": "code",
      "metadata": {
        "id": "r1VR5rbcIT5o"
      },
      "source": [
        "#case 1 : racial bias\r\n",
        "privileged_group = stop_search_df[stop_search_df[\"RACE\"] == \"Whites\"]\r\n",
        "underprivileged_group = stop_search_df[stop_search_df[\"RACE\"] == \"Non-Whites\"]"
      ],
      "execution_count": 1,
      "outputs": []
    },
    {
      "cell_type": "code",
      "metadata": {
        "id": "CB73v3etIT2p"
      },
      "source": [
        "#case 2 : gender bias\r\n",
        "privileged_group = stop_search_df[stop_search_df[\"SUSPECT_SEX\"] == \"FEMALE\"]\r\n",
        "underprivileged_group = stop_search_df[stop_search_df[\"SUSPECT_SEX\"] == \"MALE\"]"
      ],
      "execution_count": null,
      "outputs": []
    },
    {
      "cell_type": "code",
      "metadata": {
        "id": "1kbYVCLkIT0J"
      },
      "source": [
        ""
      ],
      "execution_count": null,
      "outputs": []
    }
  ]
}