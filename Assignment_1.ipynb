{
  "nbformat": 4,
  "nbformat_minor": 0,
  "metadata": {
    "colab": {
      "name": "Assignment_1.ipynb",
      "provenance": [],
      "collapsed_sections": [],
      "authorship_tag": "ABX9TyMkNEzXjVCFQgJ/yLY6KdtC",
      "include_colab_link": true
    },
    "kernelspec": {
      "name": "python3",
      "display_name": "Python 3"
    }
  },
  "cells": [
    {
      "cell_type": "markdown",
      "metadata": {
        "id": "view-in-github",
        "colab_type": "text"
      },
      "source": [
        "<a href=\"https://colab.research.google.com/github/Ananyadevaraju/CE888/blob/main/Assignment_1/Assignment_1.ipynb\" target=\"_parent\"><img src=\"https://colab.research.google.com/assets/colab-badge.svg\" alt=\"Open In Colab\"/></a>"
      ]
    },
    {
      "cell_type": "markdown",
      "metadata": {
        "id": "UDiBz-kJlpIu"
      },
      "source": [
        "IS THE US POLICE BIASED?\r\n"
      ]
    },
    {
      "cell_type": "markdown",
      "metadata": {
        "id": "nOFQN19SlpFQ"
      },
      "source": [
        "Importing libraries:"
      ]
    },
    {
      "cell_type": "code",
      "metadata": {
        "id": "zQSXNjGSiMr7"
      },
      "source": [
        "#import libraries\r\n",
        "import pandas as pd\r\n",
        "import numpy as np\r\n",
        "from datetime import datetime \r\n",
        "import matplotlib.pyplot as plt\r\n",
        "import seaborn as sns\r\n",
        "pd.set_option('display.max_rows',1000)"
      ],
      "execution_count": 24,
      "outputs": []
    },
    {
      "cell_type": "markdown",
      "metadata": {
        "id": "KvkA89Kyl2CY"
      },
      "source": [
        "Loading data:"
      ]
    },
    {
      "cell_type": "markdown",
      "metadata": {
        "id": "RHy90iLR3SiC"
      },
      "source": [
        "This dataset is obtained from https://www1.nyc.gov/site/nypd/stats/reports-analysis/stopfrisk.page, which contains records of stop, question and frisk in 2019, from the NYPD database. The dataframe has 13,459 observations and infomration on 83 variables."
      ]
    },
    {
      "cell_type": "code",
      "metadata": {
        "id": "MmqF3M_Sl0os"
      },
      "source": [
        "#load data \r\n",
        "df = pd.read_csv(\"https://raw.githubusercontent.com/Ananyadevaraju/CE888/main/Assignment_1/sqf-2019.csv\")"
      ],
      "execution_count": 26,
      "outputs": []
    },
    {
      "cell_type": "code",
      "metadata": {
        "colab": {
          "base_uri": "https://localhost:8080/"
        },
        "id": "ZTx0BHGgGx2z",
        "outputId": "29a8ad26-23f5-4987-ca89-a322e267a509"
      },
      "source": [
        "#shape of the dataframe\r\n",
        "df.shape"
      ],
      "execution_count": 27,
      "outputs": [
        {
          "output_type": "execute_result",
          "data": {
            "text/plain": [
              "(13459, 83)"
            ]
          },
          "metadata": {
            "tags": []
          },
          "execution_count": 27
        }
      ]
    },
    {
      "cell_type": "code",
      "metadata": {
        "colab": {
          "base_uri": "https://localhost:8080/"
        },
        "id": "sVJJY-EiHIRy",
        "outputId": "877a3457-5e3c-430d-e230-d000e10aeee8"
      },
      "source": [
        "#columns names in the dataframe\r\n",
        "df.columns"
      ],
      "execution_count": 28,
      "outputs": [
        {
          "output_type": "execute_result",
          "data": {
            "text/plain": [
              "Index(['STOP_ID_ANONY', 'STOP_FRISK_DATE', 'STOP_FRISK_TIME', 'YEAR2',\n",
              "       'MONTH2', 'DAY2', 'STOP_WAS_INITIATED', 'RECORD_STATUS_CODE',\n",
              "       'ISSUING_OFFICER_RANK', 'ISSUING_OFFICER_COMMAND_CODE',\n",
              "       'SUPERVISING_OFFICER_RANK', 'SUPERVISING_OFFICER_COMMAND_CODE',\n",
              "       'LOCATION_IN_OUT_CODE', 'JURISDICTION_CODE', 'JURISDICTION_DESCRIPTION',\n",
              "       'OBSERVED_DURATION_MINUTES', 'SUSPECTED_CRIME_DESCRIPTION',\n",
              "       'STOP_DURATION_MINUTES', 'OFFICER_EXPLAINED_STOP_FLAG',\n",
              "       'OFFICER_NOT_EXPLAINED_STOP_DESCRIPTION', 'OTHER_PERSON_STOPPED_FLAG',\n",
              "       'SUSPECT_ARRESTED_FLAG', 'SUSPECT_ARREST_OFFENSE',\n",
              "       'SUMMONS_ISSUED_FLAG', 'SUMMONS_OFFENSE_DESCRIPTION',\n",
              "       'OFFICER_IN_UNIFORM_FLAG', 'ID_CARD_IDENTIFIES_OFFICER_FLAG',\n",
              "       'SHIELD_IDENTIFIES_OFFICER_FLAG', 'VERBAL_IDENTIFIES_OFFICER_FLAG',\n",
              "       'FRISKED_FLAG', 'SEARCHED_FLAG', 'ASK_FOR_CONSENT_FLG',\n",
              "       'CONSENT_GIVEN_FLG', 'OTHER_CONTRABAND_FLAG', 'FIREARM_FLAG',\n",
              "       'KNIFE_CUTTER_FLAG', 'OTHER_WEAPON_FLAG', 'WEAPON_FOUND_FLAG',\n",
              "       'PHYSICAL_FORCE_CEW_FLAG', 'PHYSICAL_FORCE_DRAW_POINT_FIREARM_FLAG',\n",
              "       'PHYSICAL_FORCE_HANDCUFF_SUSPECT_FLAG',\n",
              "       'PHYSICAL_FORCE_OC_SPRAY_USED_FLAG', 'PHYSICAL_FORCE_OTHER_FLAG',\n",
              "       'PHYSICAL_FORCE_RESTRAINT_USED_FLAG',\n",
              "       'PHYSICAL_FORCE_VERBAL_INSTRUCTION_FLAG',\n",
              "       'PHYSICAL_FORCE_WEAPON_IMPACT_FLAG',\n",
              "       'BACKROUND_CIRCUMSTANCES_VIOLENT_CRIME_FLAG',\n",
              "       'BACKROUND_CIRCUMSTANCES_SUSPECT_KNOWN_TO_CARRY_WEAPON_FLAG',\n",
              "       'SUSPECTS_ACTIONS_CASING_FLAG',\n",
              "       'SUSPECTS_ACTIONS_CONCEALED_POSSESSION_WEAPON_FLAG',\n",
              "       'SUSPECTS_ACTIONS_DECRIPTION_FLAG',\n",
              "       'SUSPECTS_ACTIONS_DRUG_TRANSACTIONS_FLAG',\n",
              "       'SUSPECTS_ACTIONS_IDENTIFY_CRIME_PATTERN_FLAG',\n",
              "       'SUSPECTS_ACTIONS_LOOKOUT_FLAG', 'SUSPECTS_ACTIONS_OTHER_FLAG',\n",
              "       'SUSPECTS_ACTIONS_PROXIMITY_TO_SCENE_FLAG',\n",
              "       'SEARCH_BASIS_ADMISSION_FLAG', 'SEARCH_BASIS_CONSENT_FLAG',\n",
              "       'SEARCH_BASIS_HARD_OBJECT_FLAG',\n",
              "       'SEARCH_BASIS_INCIDENTAL_TO_ARREST_FLAG', 'SEARCH_BASIS_OTHER_FLAG',\n",
              "       'SEARCH_BASIS_OUTLINE_FLAG', 'DEMEANOR_CODE',\n",
              "       'DEMEANOR_OF_PERSON_STOPPED', 'SUSPECT_REPORTED_AGE', 'SUSPECT_SEX',\n",
              "       'SUSPECT_RACE_DESCRIPTION', 'SUSPECT_HEIGHT', 'SUSPECT_WEIGHT',\n",
              "       'SUSPECT_BODY_BUILD_TYPE', 'SUSPECT_EYE_COLOR', 'SUSPECT_HAIR_COLOR',\n",
              "       'SUSPECT_OTHER_DESCRIPTION', 'STOP_LOCATION_PRECINCT',\n",
              "       'STOP_LOCATION_SECTOR_CODE', 'STOP_LOCATION_APARTMENT',\n",
              "       'STOP_LOCATION_FULL_ADDRESS', 'STOP_LOCATION_STREET_NAME',\n",
              "       'STOP_LOCATION_X', 'STOP_LOCATION_Y', 'STOP_LOCATION_ZIP_CODE',\n",
              "       'STOP_LOCATION_PATROL_BORO_NAME', 'STOP_LOCATION_BORO_NAME'],\n",
              "      dtype='object')"
            ]
          },
          "metadata": {
            "tags": []
          },
          "execution_count": 28
        }
      ]
    },
    {
      "cell_type": "markdown",
      "metadata": {
        "id": "a6iP8B-4BQM2"
      },
      "source": [
        "Missing data:"
      ]
    },
    {
      "cell_type": "code",
      "metadata": {
        "colab": {
          "base_uri": "https://localhost:8080/"
        },
        "id": "haYTtQtq3utF",
        "outputId": "d675e2c2-3b44-45b5-c780-0c05681be470"
      },
      "source": [
        "#checking for NaN values\r\n",
        "df.isnull().sum()"
      ],
      "execution_count": 29,
      "outputs": [
        {
          "output_type": "execute_result",
          "data": {
            "text/plain": [
              "STOP_ID_ANONY                                                    0\n",
              "STOP_FRISK_DATE                                                  0\n",
              "STOP_FRISK_TIME                                                  0\n",
              "YEAR2                                                            0\n",
              "MONTH2                                                           0\n",
              "DAY2                                                             0\n",
              "STOP_WAS_INITIATED                                               0\n",
              "RECORD_STATUS_CODE                                               0\n",
              "ISSUING_OFFICER_RANK                                             0\n",
              "ISSUING_OFFICER_COMMAND_CODE                                     0\n",
              "SUPERVISING_OFFICER_RANK                                         0\n",
              "SUPERVISING_OFFICER_COMMAND_CODE                                 0\n",
              "LOCATION_IN_OUT_CODE                                             0\n",
              "JURISDICTION_CODE                                                0\n",
              "JURISDICTION_DESCRIPTION                                         0\n",
              "OBSERVED_DURATION_MINUTES                                        0\n",
              "SUSPECTED_CRIME_DESCRIPTION                                      0\n",
              "STOP_DURATION_MINUTES                                            0\n",
              "OFFICER_EXPLAINED_STOP_FLAG                                      0\n",
              "OFFICER_NOT_EXPLAINED_STOP_DESCRIPTION                           6\n",
              "OTHER_PERSON_STOPPED_FLAG                                        0\n",
              "SUSPECT_ARRESTED_FLAG                                            0\n",
              "SUSPECT_ARREST_OFFENSE                                           0\n",
              "SUMMONS_ISSUED_FLAG                                              0\n",
              "SUMMONS_OFFENSE_DESCRIPTION                                      0\n",
              "OFFICER_IN_UNIFORM_FLAG                                          0\n",
              "ID_CARD_IDENTIFIES_OFFICER_FLAG                                  0\n",
              "SHIELD_IDENTIFIES_OFFICER_FLAG                                   0\n",
              "VERBAL_IDENTIFIES_OFFICER_FLAG                                   0\n",
              "FRISKED_FLAG                                                     0\n",
              "SEARCHED_FLAG                                                    0\n",
              "ASK_FOR_CONSENT_FLG                                              0\n",
              "CONSENT_GIVEN_FLG                                                0\n",
              "OTHER_CONTRABAND_FLAG                                            0\n",
              "FIREARM_FLAG                                                     0\n",
              "KNIFE_CUTTER_FLAG                                                0\n",
              "OTHER_WEAPON_FLAG                                                0\n",
              "WEAPON_FOUND_FLAG                                                0\n",
              "PHYSICAL_FORCE_CEW_FLAG                                          0\n",
              "PHYSICAL_FORCE_DRAW_POINT_FIREARM_FLAG                           0\n",
              "PHYSICAL_FORCE_HANDCUFF_SUSPECT_FLAG                             0\n",
              "PHYSICAL_FORCE_OC_SPRAY_USED_FLAG                                0\n",
              "PHYSICAL_FORCE_OTHER_FLAG                                        0\n",
              "PHYSICAL_FORCE_RESTRAINT_USED_FLAG                               0\n",
              "PHYSICAL_FORCE_VERBAL_INSTRUCTION_FLAG                           0\n",
              "PHYSICAL_FORCE_WEAPON_IMPACT_FLAG                                0\n",
              "BACKROUND_CIRCUMSTANCES_VIOLENT_CRIME_FLAG                       0\n",
              "BACKROUND_CIRCUMSTANCES_SUSPECT_KNOWN_TO_CARRY_WEAPON_FLAG       0\n",
              "SUSPECTS_ACTIONS_CASING_FLAG                                     0\n",
              "SUSPECTS_ACTIONS_CONCEALED_POSSESSION_WEAPON_FLAG                0\n",
              "SUSPECTS_ACTIONS_DECRIPTION_FLAG                                 0\n",
              "SUSPECTS_ACTIONS_DRUG_TRANSACTIONS_FLAG                          0\n",
              "SUSPECTS_ACTIONS_IDENTIFY_CRIME_PATTERN_FLAG                     0\n",
              "SUSPECTS_ACTIONS_LOOKOUT_FLAG                                    0\n",
              "SUSPECTS_ACTIONS_OTHER_FLAG                                      0\n",
              "SUSPECTS_ACTIONS_PROXIMITY_TO_SCENE_FLAG                         0\n",
              "SEARCH_BASIS_ADMISSION_FLAG                                      0\n",
              "SEARCH_BASIS_CONSENT_FLAG                                        0\n",
              "SEARCH_BASIS_HARD_OBJECT_FLAG                                    0\n",
              "SEARCH_BASIS_INCIDENTAL_TO_ARREST_FLAG                           0\n",
              "SEARCH_BASIS_OTHER_FLAG                                          0\n",
              "SEARCH_BASIS_OUTLINE_FLAG                                        0\n",
              "DEMEANOR_CODE                                                 1147\n",
              "DEMEANOR_OF_PERSON_STOPPED                                    1193\n",
              "SUSPECT_REPORTED_AGE                                             0\n",
              "SUSPECT_SEX                                                      0\n",
              "SUSPECT_RACE_DESCRIPTION                                         0\n",
              "SUSPECT_HEIGHT                                                   0\n",
              "SUSPECT_WEIGHT                                                   0\n",
              "SUSPECT_BODY_BUILD_TYPE                                          0\n",
              "SUSPECT_EYE_COLOR                                                0\n",
              "SUSPECT_HAIR_COLOR                                               0\n",
              "SUSPECT_OTHER_DESCRIPTION                                      814\n",
              "STOP_LOCATION_PRECINCT                                           0\n",
              "STOP_LOCATION_SECTOR_CODE                                        0\n",
              "STOP_LOCATION_APARTMENT                                         17\n",
              "STOP_LOCATION_FULL_ADDRESS                                       0\n",
              "STOP_LOCATION_STREET_NAME                                        0\n",
              "STOP_LOCATION_X                                                  0\n",
              "STOP_LOCATION_Y                                                  0\n",
              "STOP_LOCATION_ZIP_CODE                                           0\n",
              "STOP_LOCATION_PATROL_BORO_NAME                                   0\n",
              "STOP_LOCATION_BORO_NAME                                          0\n",
              "dtype: int64"
            ]
          },
          "metadata": {
            "tags": []
          },
          "execution_count": 29
        }
      ]
    },
    {
      "cell_type": "markdown",
      "metadata": {
        "id": "Xw1bwSWDBYp4"
      },
      "source": [
        "Drop columns:"
      ]
    },
    {
      "cell_type": "code",
      "metadata": {
        "id": "CN9ef9MN5a1N"
      },
      "source": [
        "#dropping columns with same class/value for all observations\r\n",
        "stop_search_df = df.drop(columns = [\"YEAR2\", \"RECORD_STATUS_CODE\", \"PHYSICAL_FORCE_RESTRAINT_USED_FLAG\"], axis = 1)"
      ],
      "execution_count": 30,
      "outputs": []
    },
    {
      "cell_type": "code",
      "metadata": {
        "id": "18c2P6Xw5axz"
      },
      "source": [
        "#dropping redundant columns (example: code and its description for a feature)\r\n",
        "stop_search_df = stop_search_df.drop(columns = [\"JURISDICTION_CODE\", \"DEMEANOR_CODE\"], axis = 1)"
      ],
      "execution_count": 15,
      "outputs": []
    },
    {
      "cell_type": "code",
      "metadata": {
        "id": "8pVSXAcA5av6"
      },
      "source": [
        "#dropping columns with information about the officers which are irrelevant for this study\r\n",
        "stop_search_df.drop(columns = [\"ID_CARD_IDENTIFIES_OFFICER_FLAG\", \"SHIELD_IDENTIFIES_OFFICER_FLAG\", \"VERBAL_IDENTIFIES_OFFICER_FLAG\"], axis = 1, inplace = True) "
      ],
      "execution_count": 16,
      "outputs": []
    },
    {
      "cell_type": "code",
      "metadata": {
        "id": "z8YsJcFw5auC"
      },
      "source": [
        "#dropping feature columns information on location which are not being used in this study(like latitude, longitude and retaining necessary information on location)\r\n",
        "stop_search_df.drop(columns = [\"STOP_LOCATION_APARTMENT\", \"STOP_LOCATION_FULL_ADDRESS\", \"STOP_LOCATION_X\", \"STOP_LOCATION_Y\"], axis = 1, inplace = True)"
      ],
      "execution_count": 19,
      "outputs": []
    },
    {
      "cell_type": "markdown",
      "metadata": {
        "id": "6kKM_wL4BgEB"
      },
      "source": [
        "Data transformation and sensitive features:"
      ]
    },
    {
      "cell_type": "code",
      "metadata": {
        "colab": {
          "base_uri": "https://localhost:8080/"
        },
        "id": "PbxzVLA4BMTy",
        "outputId": "697ac23c-54fd-4923-837e-024a3d966f64"
      },
      "source": [
        "#arrest feature count of each class\r\n",
        "stop_search_df[\"SUSPECT_ARRESTED_FLAG\"].value_counts()"
      ],
      "execution_count": 32,
      "outputs": [
        {
          "output_type": "execute_result",
          "data": {
            "text/plain": [
              "N    9151\n",
              "Y    4308\n",
              "Name: SUSPECT_ARRESTED_FLAG, dtype: int64"
            ]
          },
          "metadata": {
            "tags": []
          },
          "execution_count": 32
        }
      ]
    },
    {
      "cell_type": "code",
      "metadata": {
        "id": "GXTGSOxxBMQd"
      },
      "source": [
        "#gender feature - count of each class, male and female\r\n",
        "stop_search_df[\"SUSPECT_SEX\"].value_counts()\r\n",
        "#dropping rows with missing gender values\r\n",
        "x = stop_search_df.drop(columns = [\"SUSPECT_SEX\"], axis= 0)"
      ],
      "execution_count": 40,
      "outputs": []
    },
    {
      "cell_type": "code",
      "metadata": {
        "colab": {
          "base_uri": "https://localhost:8080/"
        },
        "id": "u7OyCkm3DWVh",
        "outputId": "72a0f08f-b6b7-4897-af9d-3f7cc4f1da24"
      },
      "source": [
        "stop_search_df.shape"
      ],
      "execution_count": 42,
      "outputs": [
        {
          "output_type": "execute_result",
          "data": {
            "text/plain": [
              "(13459, 80)"
            ]
          },
          "metadata": {
            "tags": []
          },
          "execution_count": 42
        }
      ]
    },
    {
      "cell_type": "code",
      "metadata": {
        "colab": {
          "base_uri": "https://localhost:8080/"
        },
        "id": "ag5ZxrTGBMNw",
        "outputId": "2dcb65cc-abd9-4425-fbf0-670556a8a1ba"
      },
      "source": [
        "#value counts of diffferent races stopped \r\n",
        "stop_search_df[\"SUSPECT_RACE_DESCRIPTION\"].value_counts() \r\n",
        "                                                                                                                                                                                                                                                                                                                      \r\n",
        "#converting all classes other than Whites as Non-Whites - creating binary sensitive variable\r\n",
        "\r\n",
        "\r\n",
        "for x in stop_search_df[\"SUSPECT_RACE_DESCRIPTION\"]:\r\n",
        "  if x == \"Whites\":\r\n",
        "    x = \"whites\"                               "
      ],
      "execution_count": 35,
      "outputs": [
        {
          "output_type": "execute_result",
          "data": {
            "text/plain": [
              "BLACK                        7981\n",
              "WHITE HISPANIC               2742\n",
              "WHITE                        1215\n",
              "BLACK HISPANIC               1127\n",
              "ASIAN / PACIFIC ISLANDER      301\n",
              "(null)                         85\n",
              "AMERICAN INDIAN/ALASKAN N       8\n",
              "Name: SUSPECT_RACE_DESCRIPTION, dtype: int64"
            ]
          },
          "metadata": {
            "tags": []
          },
          "execution_count": 35
        }
      ]
    },
    {
      "cell_type": "markdown",
      "metadata": {
        "id": "_svuIWCXBCP_"
      },
      "source": [
        "Testing for bias in data:"
      ]
    },
    {
      "cell_type": "markdown",
      "metadata": {
        "id": "gjLeQTjvBHV2"
      },
      "source": [
        "Is the data imbalanced?\r\n"
      ]
    },
    {
      "cell_type": "code",
      "metadata": {
        "id": "F5w-SJy9A_kz"
      },
      "source": [
        ""
      ],
      "execution_count": null,
      "outputs": []
    },
    {
      "cell_type": "code",
      "metadata": {
        "id": "xEUcE-nGA_jP"
      },
      "source": [
        ""
      ],
      "execution_count": null,
      "outputs": []
    },
    {
      "cell_type": "code",
      "metadata": {
        "id": "jSQZPvLDGPNj"
      },
      "source": [
        ""
      ],
      "execution_count": null,
      "outputs": []
    },
    {
      "cell_type": "code",
      "metadata": {
        "id": "Zd7F9grxA_h2"
      },
      "source": [
        ""
      ],
      "execution_count": null,
      "outputs": []
    },
    {
      "cell_type": "code",
      "metadata": {
        "id": "pd7qbeO0A_b7"
      },
      "source": [
        ""
      ],
      "execution_count": null,
      "outputs": []
    },
    {
      "cell_type": "markdown",
      "metadata": {
        "id": "F_1R1BTk4K-6"
      },
      "source": [
        "Objective:"
      ]
    },
    {
      "cell_type": "markdown",
      "metadata": {
        "id": "rfzR13E826aM"
      },
      "source": [
        "We want to train a classification model to classify whether a subject stopped will be arrested or not. The objective is to analyze whether sensitive features like gender and race of the subject determines the outcome, arrest or no arrest."
      ]
    },
    {
      "cell_type": "markdown",
      "metadata": {
        "id": "doxKgOS94Qs5"
      },
      "source": [
        "The target/outcome variable is given by \"SUSPECT_ARRESTED_FLAG\" column in the dataset.\r\n"
      ]
    },
    {
      "cell_type": "code",
      "metadata": {
        "id": "eWGh_R_B4pGY"
      },
      "source": [
        "target = [\"SUSPECT_ARRESTED_FLAG\"]"
      ],
      "execution_count": 31,
      "outputs": []
    },
    {
      "cell_type": "markdown",
      "metadata": {
        "id": "d6c6j1Ym5yJc"
      },
      "source": [
        "We will initially select important attributes about subject like gender, race, frisk, search, and suspicion as the input variables to train the model."
      ]
    },
    {
      "cell_type": "code",
      "metadata": {
        "id": "U8yS6xlR4oi_"
      },
      "source": [
        ""
      ],
      "execution_count": null,
      "outputs": []
    },
    {
      "cell_type": "markdown",
      "metadata": {
        "id": "FxQ7F-TmGqh3"
      },
      "source": [
        "Data visualization:"
      ]
    },
    {
      "cell_type": "code",
      "metadata": {
        "colab": {
          "base_uri": "https://localhost:8080/",
          "height": 297
        },
        "id": "10siH99AI-j2",
        "outputId": "0b2ed7b6-7190-411e-cc29-2eb8d5ea16d8"
      },
      "source": [
        "#racial distributions among the arrested subjects\r\n",
        "sns.countplot(x=\"SUSPECT_ARRESTED_FLAG\", data=stop_search_df)"
      ],
      "execution_count": null,
      "outputs": [
        {
          "output_type": "execute_result",
          "data": {
            "text/plain": [
              "<matplotlib.axes._subplots.AxesSubplot at 0x7f2d4770c0f0>"
            ]
          },
          "metadata": {
            "tags": []
          },
          "execution_count": 13
        },
        {
          "output_type": "display_data",
          "data": {
            "image/png": "[encoded data removed]",
            "text/plain": [
              "<Figure size 432x288 with 1 Axes>"
            ]
          },
          "metadata": {
            "tags": [],
            "needs_background": "light"
          }
        }
      ]
    },
    {
      "cell_type": "code",
      "metadata": {
        "colab": {
          "base_uri": "https://localhost:8080/",
          "height": 297
        },
        "id": "u-Aq7zE0I-iu",
        "outputId": "76b7da52-21fb-4340-a378-3b039c94f532"
      },
      "source": [
        "sns.countplot(x=\"SUSPECT_RACE_DESCRIPTION\", data=stop_search_df)"
      ],
      "execution_count": null,
      "outputs": [
        {
          "output_type": "execute_result",
          "data": {
            "text/plain": [
              "<matplotlib.axes._subplots.AxesSubplot at 0x7f2d476525c0>"
            ]
          },
          "metadata": {
            "tags": []
          },
          "execution_count": 14
        },
        {
          "output_type": "display_data",
          "data": {
            "image/png": "[encoded data removed]",
            "text/plain": [
              "<Figure size 432x288 with 1 Axes>"
            ]
          },
          "metadata": {
            "tags": [],
            "needs_background": "light"
          }
        }
      ]
    },
    {
      "cell_type": "code",
      "metadata": {
        "colab": {
          "base_uri": "https://localhost:8080/",
          "height": 297
        },
        "id": "p1Qa7dixI-ff",
        "outputId": "87a8f867-efff-4a23-de68-b31d32dbd7ef"
      },
      "source": [
        "#count of different genders in the data\r\n",
        "sns.countplot(x=\"SUSPECT_SEX\", data=stop_search_df)"
      ],
      "execution_count": null,
      "outputs": [
        {
          "output_type": "execute_result",
          "data": {
            "text/plain": [
              "<matplotlib.axes._subplots.AxesSubplot at 0x7f2d4715f470>"
            ]
          },
          "metadata": {
            "tags": []
          },
          "execution_count": 15
        },
        {
          "output_type": "display_data",
          "data": {
            "image/png": "[encoded data removed]",
            "text/plain": [
              "<Figure size 432x288 with 1 Axes>"
            ]
          },
          "metadata": {
            "tags": [],
            "needs_background": "light"
          }
        }
      ]
    },
    {
      "cell_type": "code",
      "metadata": {
        "id": "yEh2BZLWG9-d"
      },
      "source": [
        "#gender distribution among the arrested subjects\r\n"
      ],
      "execution_count": 43,
      "outputs": []
    },
    {
      "cell_type": "code",
      "metadata": {
        "id": "KrUbQf9FGz2c"
      },
      "source": [
        "#racial distributions in frisked data\r\n"
      ],
      "execution_count": null,
      "outputs": []
    },
    {
      "cell_type": "code",
      "metadata": {
        "id": "I4bqa79YGzzr"
      },
      "source": [
        "#racial distributions in searched data\r\n"
      ],
      "execution_count": null,
      "outputs": []
    },
    {
      "cell_type": "code",
      "metadata": {
        "id": "vKmeDiQVGzxL"
      },
      "source": [
        "#veil of darkness\r\n",
        "#racial distributions of subjects during day and night"
      ],
      "execution_count": null,
      "outputs": []
    },
    {
      "cell_type": "code",
      "metadata": {
        "id": "fQF3DkcwGzrO"
      },
      "source": [
        ""
      ],
      "execution_count": null,
      "outputs": []
    },
    {
      "cell_type": "markdown",
      "metadata": {
        "id": "jhz9Jf9hnBlD"
      },
      "source": [
        "Data Preprocessing:"
      ]
    },
    {
      "cell_type": "code",
      "metadata": {
        "id": "e9ZJj8gCn-xu"
      },
      "source": [
        "#target column\r\n",
        "y = stop_search_df[\"SUSPECT_ARRESTED_FLAG\"]"
      ],
      "execution_count": null,
      "outputs": []
    },
    {
      "cell_type": "code",
      "metadata": {
        "id": "JvCd48mBNCoS"
      },
      "source": [
        "#features\r\n",
        "categorical_columns = [\" \"]"
      ],
      "execution_count": null,
      "outputs": []
    }
  ]
}