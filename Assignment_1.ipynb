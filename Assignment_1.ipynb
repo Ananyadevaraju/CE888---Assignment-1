{
  "nbformat": 4,
  "nbformat_minor": 0,
  "metadata": {
    "colab": {
      "name": "Assignment_1.ipynb",
      "provenance": [],
      "collapsed_sections": [],
      "authorship_tag": "ABX9TyP4c6u1DATbCI4DTFkYw1sW",
      "include_colab_link": true
    },
    "kernelspec": {
      "name": "python3",
      "display_name": "Python 3"
    }
  },
  "cells": [
    {
      "cell_type": "markdown",
      "metadata": {
        "id": "view-in-github",
        "colab_type": "text"
      },
      "source": [
        "<a href=\"https://colab.research.google.com/github/Ananyadevaraju/CE888---Assignment-1/blob/main/Assignment_1.ipynb\" target=\"_parent\"><img src=\"https://colab.research.google.com/assets/colab-badge.svg\" alt=\"Open In Colab\"/></a>"
      ]
    },
    {
      "cell_type": "markdown",
      "metadata": {
        "id": "UDiBz-kJlpIu"
      },
      "source": [
        "Bias in Machine Learning Algorithms"
      ]
    },
    {
      "cell_type": "markdown",
      "metadata": {
        "id": "nOFQN19SlpFQ"
      },
      "source": [
        "Importing libraries:"
      ]
    },
    {
      "cell_type": "code",
      "metadata": {
        "id": "zQSXNjGSiMr7"
      },
      "source": [
        "#import libraries\r\n",
        "\r\n",
        "import pandas as pd\r\n",
        "import numpy as np\r\n",
        "from datetime import datetime \r\n",
        "#data visualization\r\n",
        "import matplotlib.pyplot as plt\r\n",
        "import seaborn as sns\r\n",
        "\r\n",
        "#label encoder\r\n",
        "from sklearn.preprocessing import LabelEncoder\r\n",
        "#train-test-split and cross validation\r\n",
        "from sklearn.model_selection import train_test_split, cross_val_score\r\n",
        "#classifier\r\n",
        "from sklearn.ensemble import RandomForestClassifier\r\n",
        "#feature selection\r\n",
        "from sklearn.model_selection import GridSearchCV\r\n",
        "from sklearn.feature_selection import RFE\r\n",
        "\r\n",
        "#scalers\r\n",
        "from sklearn.preprocessing import StandardScaler\r\n",
        "\r\n",
        "#aif360\r\n",
        "#fairness metrics\r\n",
        "# from aif360.metrics import BinaryLabelDatasetMetric\r\n",
        "# from aif360.metrics import ClassificationMetric\r\n",
        "\r\n",
        "#explainers\r\n",
        "# from aif360.explainers import MetricTextExplainer\r\n",
        "\r\n",
        "#bias mitigation techniques\r\n",
        "# from aif360.algorithms.preprocessing import Reweighing\r\n",
        "# from aif360.algorithms.inprocessing import PrejudiceRemover\r\n",
        "\r\n",
        "#LIME - model interpretation\r\n",
        "# from aif360.datasets.lime_encoder import LimeEncoder\r\n",
        "# import lime\r\n",
        "# from lime.lime_tabular import LimeTabularExplainer\r\n",
        "\r\n",
        "pd.set_option('display.max_rows',1000)"
      ],
      "execution_count": 50,
      "outputs": []
    },
    {
      "cell_type": "markdown",
      "metadata": {
        "id": "KvkA89Kyl2CY"
      },
      "source": [
        "Loading data:"
      ]
    },
    {
      "cell_type": "markdown",
      "metadata": {
        "id": "RHy90iLR3SiC"
      },
      "source": [
        "This dataset is obtained from https://www1.nyc.gov/site/nypd/stats/reports-analysis/stopfrisk.page, which contains records of stop, question and frisk in 2019, from the NYPD database. The dataframe has 13,459 observations and infomration on 83 variables."
      ]
    },
    {
      "cell_type": "code",
      "metadata": {
        "id": "MmqF3M_Sl0os"
      },
      "source": [
        "#load data \r\n",
        "df = pd.read_csv(\"https://raw.githubusercontent.com/Ananyadevaraju/CE888---Assignment-1/main/sqf-2019.csv\")"
      ],
      "execution_count": 11,
      "outputs": []
    },
    {
      "cell_type": "code",
      "metadata": {
        "colab": {
          "base_uri": "https://localhost:8080/"
        },
        "id": "ZTx0BHGgGx2z",
        "outputId": "bc3762a3-062a-4ba5-b389-4fffcfc4c4b3"
      },
      "source": [
        "#shape of the dataframe\r\n",
        "df.shape"
      ],
      "execution_count": 12,
      "outputs": [
        {
          "output_type": "execute_result",
          "data": {
            "text/plain": [
              "(13459, 83)"
            ]
          },
          "metadata": {
            "tags": []
          },
          "execution_count": 12
        }
      ]
    },
    {
      "cell_type": "code",
      "metadata": {
        "colab": {
          "base_uri": "https://localhost:8080/"
        },
        "id": "sVJJY-EiHIRy",
        "outputId": "6c4ad3d7-daec-4b85-8977-87f16e14d6c2"
      },
      "source": [
        "#columns names in the dataframe\r\n",
        "df.columns"
      ],
      "execution_count": 13,
      "outputs": [
        {
          "output_type": "execute_result",
          "data": {
            "text/plain": [
              "Index(['STOP_ID_ANONY', 'STOP_FRISK_DATE', 'STOP_FRISK_TIME', 'YEAR2',\n",
              "       'MONTH2', 'DAY2', 'STOP_WAS_INITIATED', 'RECORD_STATUS_CODE',\n",
              "       'ISSUING_OFFICER_RANK', 'ISSUING_OFFICER_COMMAND_CODE',\n",
              "       'SUPERVISING_OFFICER_RANK', 'SUPERVISING_OFFICER_COMMAND_CODE',\n",
              "       'LOCATION_IN_OUT_CODE', 'JURISDICTION_CODE', 'JURISDICTION_DESCRIPTION',\n",
              "       'OBSERVED_DURATION_MINUTES', 'SUSPECTED_CRIME_DESCRIPTION',\n",
              "       'STOP_DURATION_MINUTES', 'OFFICER_EXPLAINED_STOP_FLAG',\n",
              "       'OFFICER_NOT_EXPLAINED_STOP_DESCRIPTION', 'OTHER_PERSON_STOPPED_FLAG',\n",
              "       'SUSPECT_ARRESTED_FLAG', 'SUSPECT_ARREST_OFFENSE',\n",
              "       'SUMMONS_ISSUED_FLAG', 'SUMMONS_OFFENSE_DESCRIPTION',\n",
              "       'OFFICER_IN_UNIFORM_FLAG', 'ID_CARD_IDENTIFIES_OFFICER_FLAG',\n",
              "       'SHIELD_IDENTIFIES_OFFICER_FLAG', 'VERBAL_IDENTIFIES_OFFICER_FLAG',\n",
              "       'FRISKED_FLAG', 'SEARCHED_FLAG', 'ASK_FOR_CONSENT_FLG',\n",
              "       'CONSENT_GIVEN_FLG', 'OTHER_CONTRABAND_FLAG', 'FIREARM_FLAG',\n",
              "       'KNIFE_CUTTER_FLAG', 'OTHER_WEAPON_FLAG', 'WEAPON_FOUND_FLAG',\n",
              "       'PHYSICAL_FORCE_CEW_FLAG', 'PHYSICAL_FORCE_DRAW_POINT_FIREARM_FLAG',\n",
              "       'PHYSICAL_FORCE_HANDCUFF_SUSPECT_FLAG',\n",
              "       'PHYSICAL_FORCE_OC_SPRAY_USED_FLAG', 'PHYSICAL_FORCE_OTHER_FLAG',\n",
              "       'PHYSICAL_FORCE_RESTRAINT_USED_FLAG',\n",
              "       'PHYSICAL_FORCE_VERBAL_INSTRUCTION_FLAG',\n",
              "       'PHYSICAL_FORCE_WEAPON_IMPACT_FLAG',\n",
              "       'BACKROUND_CIRCUMSTANCES_VIOLENT_CRIME_FLAG',\n",
              "       'BACKROUND_CIRCUMSTANCES_SUSPECT_KNOWN_TO_CARRY_WEAPON_FLAG',\n",
              "       'SUSPECTS_ACTIONS_CASING_FLAG',\n",
              "       'SUSPECTS_ACTIONS_CONCEALED_POSSESSION_WEAPON_FLAG',\n",
              "       'SUSPECTS_ACTIONS_DECRIPTION_FLAG',\n",
              "       'SUSPECTS_ACTIONS_DRUG_TRANSACTIONS_FLAG',\n",
              "       'SUSPECTS_ACTIONS_IDENTIFY_CRIME_PATTERN_FLAG',\n",
              "       'SUSPECTS_ACTIONS_LOOKOUT_FLAG', 'SUSPECTS_ACTIONS_OTHER_FLAG',\n",
              "       'SUSPECTS_ACTIONS_PROXIMITY_TO_SCENE_FLAG',\n",
              "       'SEARCH_BASIS_ADMISSION_FLAG', 'SEARCH_BASIS_CONSENT_FLAG',\n",
              "       'SEARCH_BASIS_HARD_OBJECT_FLAG',\n",
              "       'SEARCH_BASIS_INCIDENTAL_TO_ARREST_FLAG', 'SEARCH_BASIS_OTHER_FLAG',\n",
              "       'SEARCH_BASIS_OUTLINE_FLAG', 'DEMEANOR_CODE',\n",
              "       'DEMEANOR_OF_PERSON_STOPPED', 'SUSPECT_REPORTED_AGE', 'SUSPECT_SEX',\n",
              "       'SUSPECT_RACE_DESCRIPTION', 'SUSPECT_HEIGHT', 'SUSPECT_WEIGHT',\n",
              "       'SUSPECT_BODY_BUILD_TYPE', 'SUSPECT_EYE_COLOR', 'SUSPECT_HAIR_COLOR',\n",
              "       'SUSPECT_OTHER_DESCRIPTION', 'STOP_LOCATION_PRECINCT',\n",
              "       'STOP_LOCATION_SECTOR_CODE', 'STOP_LOCATION_APARTMENT',\n",
              "       'STOP_LOCATION_FULL_ADDRESS', 'STOP_LOCATION_STREET_NAME',\n",
              "       'STOP_LOCATION_X', 'STOP_LOCATION_Y', 'STOP_LOCATION_ZIP_CODE',\n",
              "       'STOP_LOCATION_PATROL_BORO_NAME', 'STOP_LOCATION_BORO_NAME'],\n",
              "      dtype='object')"
            ]
          },
          "metadata": {
            "tags": []
          },
          "execution_count": 13
        }
      ]
    },
    {
      "cell_type": "markdown",
      "metadata": {
        "id": "a6iP8B-4BQM2"
      },
      "source": [
        "Missing data:"
      ]
    },
    {
      "cell_type": "code",
      "metadata": {
        "colab": {
          "base_uri": "https://localhost:8080/"
        },
        "id": "haYTtQtq3utF",
        "outputId": "23837565-8856-4deb-8d84-69f4d9461052"
      },
      "source": [
        "#checking for NaN values\r\n",
        "df.isnull().sum()"
      ],
      "execution_count": 14,
      "outputs": [
        {
          "output_type": "execute_result",
          "data": {
            "text/plain": [
              "STOP_ID_ANONY                                                    0\n",
              "STOP_FRISK_DATE                                                  0\n",
              "STOP_FRISK_TIME                                                  0\n",
              "YEAR2                                                            0\n",
              "MONTH2                                                           0\n",
              "DAY2                                                             0\n",
              "STOP_WAS_INITIATED                                               0\n",
              "RECORD_STATUS_CODE                                               0\n",
              "ISSUING_OFFICER_RANK                                             0\n",
              "ISSUING_OFFICER_COMMAND_CODE                                     0\n",
              "SUPERVISING_OFFICER_RANK                                         0\n",
              "SUPERVISING_OFFICER_COMMAND_CODE                                 0\n",
              "LOCATION_IN_OUT_CODE                                             0\n",
              "JURISDICTION_CODE                                                0\n",
              "JURISDICTION_DESCRIPTION                                         0\n",
              "OBSERVED_DURATION_MINUTES                                        0\n",
              "SUSPECTED_CRIME_DESCRIPTION                                      0\n",
              "STOP_DURATION_MINUTES                                            0\n",
              "OFFICER_EXPLAINED_STOP_FLAG                                      0\n",
              "OFFICER_NOT_EXPLAINED_STOP_DESCRIPTION                           6\n",
              "OTHER_PERSON_STOPPED_FLAG                                        0\n",
              "SUSPECT_ARRESTED_FLAG                                            0\n",
              "SUSPECT_ARREST_OFFENSE                                           0\n",
              "SUMMONS_ISSUED_FLAG                                              0\n",
              "SUMMONS_OFFENSE_DESCRIPTION                                      0\n",
              "OFFICER_IN_UNIFORM_FLAG                                          0\n",
              "ID_CARD_IDENTIFIES_OFFICER_FLAG                                  0\n",
              "SHIELD_IDENTIFIES_OFFICER_FLAG                                   0\n",
              "VERBAL_IDENTIFIES_OFFICER_FLAG                                   0\n",
              "FRISKED_FLAG                                                     0\n",
              "SEARCHED_FLAG                                                    0\n",
              "ASK_FOR_CONSENT_FLG                                              0\n",
              "CONSENT_GIVEN_FLG                                                0\n",
              "OTHER_CONTRABAND_FLAG                                            0\n",
              "FIREARM_FLAG                                                     0\n",
              "KNIFE_CUTTER_FLAG                                                0\n",
              "OTHER_WEAPON_FLAG                                                0\n",
              "WEAPON_FOUND_FLAG                                                0\n",
              "PHYSICAL_FORCE_CEW_FLAG                                          0\n",
              "PHYSICAL_FORCE_DRAW_POINT_FIREARM_FLAG                           0\n",
              "PHYSICAL_FORCE_HANDCUFF_SUSPECT_FLAG                             0\n",
              "PHYSICAL_FORCE_OC_SPRAY_USED_FLAG                                0\n",
              "PHYSICAL_FORCE_OTHER_FLAG                                        0\n",
              "PHYSICAL_FORCE_RESTRAINT_USED_FLAG                               0\n",
              "PHYSICAL_FORCE_VERBAL_INSTRUCTION_FLAG                           0\n",
              "PHYSICAL_FORCE_WEAPON_IMPACT_FLAG                                0\n",
              "BACKROUND_CIRCUMSTANCES_VIOLENT_CRIME_FLAG                       0\n",
              "BACKROUND_CIRCUMSTANCES_SUSPECT_KNOWN_TO_CARRY_WEAPON_FLAG       0\n",
              "SUSPECTS_ACTIONS_CASING_FLAG                                     0\n",
              "SUSPECTS_ACTIONS_CONCEALED_POSSESSION_WEAPON_FLAG                0\n",
              "SUSPECTS_ACTIONS_DECRIPTION_FLAG                                 0\n",
              "SUSPECTS_ACTIONS_DRUG_TRANSACTIONS_FLAG                          0\n",
              "SUSPECTS_ACTIONS_IDENTIFY_CRIME_PATTERN_FLAG                     0\n",
              "SUSPECTS_ACTIONS_LOOKOUT_FLAG                                    0\n",
              "SUSPECTS_ACTIONS_OTHER_FLAG                                      0\n",
              "SUSPECTS_ACTIONS_PROXIMITY_TO_SCENE_FLAG                         0\n",
              "SEARCH_BASIS_ADMISSION_FLAG                                      0\n",
              "SEARCH_BASIS_CONSENT_FLAG                                        0\n",
              "SEARCH_BASIS_HARD_OBJECT_FLAG                                    0\n",
              "SEARCH_BASIS_INCIDENTAL_TO_ARREST_FLAG                           0\n",
              "SEARCH_BASIS_OTHER_FLAG                                          0\n",
              "SEARCH_BASIS_OUTLINE_FLAG                                        0\n",
              "DEMEANOR_CODE                                                 1147\n",
              "DEMEANOR_OF_PERSON_STOPPED                                    1193\n",
              "SUSPECT_REPORTED_AGE                                             0\n",
              "SUSPECT_SEX                                                      0\n",
              "SUSPECT_RACE_DESCRIPTION                                         0\n",
              "SUSPECT_HEIGHT                                                   0\n",
              "SUSPECT_WEIGHT                                                   0\n",
              "SUSPECT_BODY_BUILD_TYPE                                          0\n",
              "SUSPECT_EYE_COLOR                                                0\n",
              "SUSPECT_HAIR_COLOR                                               0\n",
              "SUSPECT_OTHER_DESCRIPTION                                      814\n",
              "STOP_LOCATION_PRECINCT                                           0\n",
              "STOP_LOCATION_SECTOR_CODE                                        0\n",
              "STOP_LOCATION_APARTMENT                                         17\n",
              "STOP_LOCATION_FULL_ADDRESS                                       0\n",
              "STOP_LOCATION_STREET_NAME                                        0\n",
              "STOP_LOCATION_X                                                  0\n",
              "STOP_LOCATION_Y                                                  0\n",
              "STOP_LOCATION_ZIP_CODE                                           0\n",
              "STOP_LOCATION_PATROL_BORO_NAME                                   0\n",
              "STOP_LOCATION_BORO_NAME                                          0\n",
              "dtype: int64"
            ]
          },
          "metadata": {
            "tags": []
          },
          "execution_count": 14
        }
      ]
    },
    {
      "cell_type": "markdown",
      "metadata": {
        "id": "Xw1bwSWDBYp4"
      },
      "source": [
        "Drop columns:"
      ]
    },
    {
      "cell_type": "code",
      "metadata": {
        "colab": {
          "base_uri": "https://localhost:8080/"
        },
        "id": "DCNw52DT9CG2",
        "outputId": "001fb683-68b9-4a42-cf77-2439018698fd"
      },
      "source": [
        "df[\"YEAR2\"].value_counts()"
      ],
      "execution_count": 15,
      "outputs": [
        {
          "output_type": "execute_result",
          "data": {
            "text/plain": [
              "2019    13459\n",
              "Name: YEAR2, dtype: int64"
            ]
          },
          "metadata": {
            "tags": []
          },
          "execution_count": 15
        }
      ]
    },
    {
      "cell_type": "code",
      "metadata": {
        "colab": {
          "base_uri": "https://localhost:8080/"
        },
        "id": "o0-pcPec9CEZ",
        "outputId": "b2a93f12-6ffe-4563-edc4-e5a44043fe0a"
      },
      "source": [
        "df[\"RECORD_STATUS_CODE\"].value_counts()"
      ],
      "execution_count": 16,
      "outputs": [
        {
          "output_type": "execute_result",
          "data": {
            "text/plain": [
              "APP    13459\n",
              "Name: RECORD_STATUS_CODE, dtype: int64"
            ]
          },
          "metadata": {
            "tags": []
          },
          "execution_count": 16
        }
      ]
    },
    {
      "cell_type": "code",
      "metadata": {
        "colab": {
          "base_uri": "https://localhost:8080/"
        },
        "id": "xMUEl4339CBJ",
        "outputId": "388a5f92-ddcc-4cb6-fcb8-c235ec445aad"
      },
      "source": [
        "df[\"PHYSICAL_FORCE_RESTRAINT_USED_FLAG\"].value_counts()"
      ],
      "execution_count": 17,
      "outputs": [
        {
          "output_type": "execute_result",
          "data": {
            "text/plain": [
              "(null)    13459\n",
              "Name: PHYSICAL_FORCE_RESTRAINT_USED_FLAG, dtype: int64"
            ]
          },
          "metadata": {
            "tags": []
          },
          "execution_count": 17
        }
      ]
    },
    {
      "cell_type": "code",
      "metadata": {
        "id": "CN9ef9MN5a1N"
      },
      "source": [
        "#dropping columns with same class/value for all observations\r\n",
        "stop_search_df = df.drop(columns = [\"YEAR2\", \"RECORD_STATUS_CODE\", \"PHYSICAL_FORCE_RESTRAINT_USED_FLAG\"], axis = 1)"
      ],
      "execution_count": 18,
      "outputs": []
    },
    {
      "cell_type": "code",
      "metadata": {
        "id": "18c2P6Xw5axz"
      },
      "source": [
        "#dropping redundant columns (example: code and its description for a feature)\r\n",
        "stop_search_df = stop_search_df.drop(columns = [\"JURISDICTION_CODE\", \"DEMEANOR_CODE\"], axis = 1)"
      ],
      "execution_count": 19,
      "outputs": []
    },
    {
      "cell_type": "code",
      "metadata": {
        "id": "8pVSXAcA5av6"
      },
      "source": [
        "#dropping columns with information about the officers which are irrelevant for this study\r\n",
        "stop_search_df.drop(columns = [\"ID_CARD_IDENTIFIES_OFFICER_FLAG\", \"SHIELD_IDENTIFIES_OFFICER_FLAG\", \"VERBAL_IDENTIFIES_OFFICER_FLAG\"], axis = 1, inplace = True) "
      ],
      "execution_count": 20,
      "outputs": []
    },
    {
      "cell_type": "code",
      "metadata": {
        "id": "z8YsJcFw5auC"
      },
      "source": [
        "#dropping feature columns information on location which are not being used in this study(like latitude, longitude and retaining necessary information on location)\r\n",
        "stop_search_df.drop(columns = [\"STOP_LOCATION_APARTMENT\", \"STOP_LOCATION_FULL_ADDRESS\", \"STOP_LOCATION_X\", \"STOP_LOCATION_Y\"], axis = 1, inplace = True)"
      ],
      "execution_count": 21,
      "outputs": []
    },
    {
      "cell_type": "code",
      "metadata": {
        "colab": {
          "base_uri": "https://localhost:8080/"
        },
        "id": "wWjBJpAJAYQY",
        "outputId": "26cdc3fe-9e01-4052-c16f-55820dcccba9"
      },
      "source": [
        "stop_search_df.shape"
      ],
      "execution_count": 22,
      "outputs": [
        {
          "output_type": "execute_result",
          "data": {
            "text/plain": [
              "(13459, 71)"
            ]
          },
          "metadata": {
            "tags": []
          },
          "execution_count": 22
        }
      ]
    },
    {
      "cell_type": "markdown",
      "metadata": {
        "id": "6kKM_wL4BgEB"
      },
      "source": [
        "Data transformation:\r\n",
        "\r\n"
      ]
    },
    {
      "cell_type": "code",
      "metadata": {
        "colab": {
          "base_uri": "https://localhost:8080/"
        },
        "id": "GXTGSOxxBMQd",
        "outputId": "7249b873-ed1b-44bd-a63e-01659fee1ce1"
      },
      "source": [
        "#gender feature - count of each class, male and female\r\n",
        "stop_search_df[\"SUSPECT_SEX\"].value_counts()"
      ],
      "execution_count": 23,
      "outputs": [
        {
          "output_type": "execute_result",
          "data": {
            "text/plain": [
              "MALE      12179\n",
              "FEMALE     1230\n",
              "(null)       50\n",
              "Name: SUSPECT_SEX, dtype: int64"
            ]
          },
          "metadata": {
            "tags": []
          },
          "execution_count": 23
        }
      ]
    },
    {
      "cell_type": "code",
      "metadata": {
        "id": "6R87a-4tOBJw"
      },
      "source": [
        "#replacing (null) values with Unknown\r\n",
        "stop_search_df[\"SUSPECT_SEX\"] = stop_search_df[\"SUSPECT_SEX\"].replace(to_replace = [\"(null)\"], value = \"Unknown\")"
      ],
      "execution_count": 24,
      "outputs": []
    },
    {
      "cell_type": "code",
      "metadata": {
        "colab": {
          "base_uri": "https://localhost:8080/"
        },
        "id": "AWuk_pyhAikV",
        "outputId": "7d74d7cc-bcbc-4d47-e178-7260d9c27345"
      },
      "source": [
        "#value counts of diffferent races stopped \r\n",
        "stop_search_df[\"SUSPECT_RACE_DESCRIPTION\"].value_counts() "
      ],
      "execution_count": 25,
      "outputs": [
        {
          "output_type": "execute_result",
          "data": {
            "text/plain": [
              "BLACK                        7981\n",
              "WHITE HISPANIC               2742\n",
              "WHITE                        1215\n",
              "BLACK HISPANIC               1127\n",
              "ASIAN / PACIFIC ISLANDER      301\n",
              "(null)                         85\n",
              "AMERICAN INDIAN/ALASKAN N       8\n",
              "Name: SUSPECT_RACE_DESCRIPTION, dtype: int64"
            ]
          },
          "metadata": {
            "tags": []
          },
          "execution_count": 25
        }
      ]
    },
    {
      "cell_type": "code",
      "metadata": {
        "colab": {
          "base_uri": "https://localhost:8080/"
        },
        "id": "ag5ZxrTGBMNw",
        "outputId": "39a1b249-9bfd-483d-8eb8-77f7dfa00f64"
      },
      "source": [
        "#replace (null) values with Unknown\r\n",
        "stop_search_df[\"SUSPECT_RACE_DESCRIPTION\"] = stop_search_df[\"SUSPECT_RACE_DESCRIPTION\"].replace(to_replace = [\"(null)\"], value = \"Unknown\")\r\n",
        "\r\n",
        "\r\n",
        "#converting all classes other than Whites as Non-Whites - creating binary sensitive variable\r\n",
        "\r\n",
        "race = []\r\n",
        "for x in stop_search_df[\"SUSPECT_RACE_DESCRIPTION\"]:\r\n",
        "  if x == \"WHITE\":\r\n",
        "    y = \"White\"  \r\n",
        "  elif x == \"Unknown\":\r\n",
        "    y = \"Unknown\"\r\n",
        "  else:\r\n",
        "    y = \"Non-White\"     \r\n",
        "  race.append(y)       \r\n",
        "  \r\n",
        "stop_search_df[\"RACE\"] = race              \r\n",
        "\r\n",
        "#value_counts\r\n",
        "stop_search_df[\"RACE\"].value_counts() "
      ],
      "execution_count": 26,
      "outputs": [
        {
          "output_type": "execute_result",
          "data": {
            "text/plain": [
              "Non-White    12159\n",
              "White         1215\n",
              "Unknown         85\n",
              "Name: RACE, dtype: int64"
            ]
          },
          "metadata": {
            "tags": []
          },
          "execution_count": 26
        }
      ]
    },
    {
      "cell_type": "code",
      "metadata": {
        "colab": {
          "base_uri": "https://localhost:8080/"
        },
        "id": "nQKY0M54J_qu",
        "outputId": "995f61fa-e1b6-4cf5-af54-8c7b58dc81da"
      },
      "source": [
        "#extracting hour from time column\r\n",
        "stop_search_df[\"Parts_of_day\"] = pd.to_datetime(stop_search_df[\"STOP_FRISK_TIME\"], format = \"%H:%M:%S\").dt.hour\r\n",
        "#converting into day or night\r\n",
        "\r\n",
        "# converting time into parts of day\r\n",
        "Parts_of_day = []\r\n",
        "for t in stop_search_df[\"Parts_of_day\"]:\r\n",
        "  if t >= 6 and t < 18:\r\n",
        "    part = \"Day\"\r\n",
        "  else:\r\n",
        "    part = \"Night\"\r\n",
        "  Parts_of_day.append(part)  \r\n",
        "\r\n",
        "#adding new column \"Parts_of_day\" to the dataframe\r\n",
        "stop_search_df[\"Parts_of_day\"] = Parts_of_day\r\n",
        "\r\n",
        "#value counts\r\n",
        "stop_search_df[\"Parts_of_day\"].value_counts()"
      ],
      "execution_count": 27,
      "outputs": [
        {
          "output_type": "execute_result",
          "data": {
            "text/plain": [
              "Night    7886\n",
              "Day      5573\n",
              "Name: Parts_of_day, dtype: int64"
            ]
          },
          "metadata": {
            "tags": []
          },
          "execution_count": 27
        }
      ]
    },
    {
      "cell_type": "markdown",
      "metadata": {
        "id": "gjLeQTjvBHV2"
      },
      "source": [
        "Is the data imbalanced?\r\n"
      ]
    },
    {
      "cell_type": "code",
      "metadata": {
        "colab": {
          "base_uri": "https://localhost:8080/"
        },
        "id": "k25If4HSDd9I",
        "outputId": "f44a6859-f9f6-4c1b-9d36-3e99bb614101"
      },
      "source": [
        "#arrest feature count of each class\r\n",
        "stop_search_df[\"SUSPECT_ARRESTED_FLAG\"].value_counts()"
      ],
      "execution_count": 28,
      "outputs": [
        {
          "output_type": "execute_result",
          "data": {
            "text/plain": [
              "N    9151\n",
              "Y    4308\n",
              "Name: SUSPECT_ARRESTED_FLAG, dtype: int64"
            ]
          },
          "metadata": {
            "tags": []
          },
          "execution_count": 28
        }
      ]
    },
    {
      "cell_type": "code",
      "metadata": {
        "colab": {
          "base_uri": "https://localhost:8080/"
        },
        "id": "ldeFRmP-XKCG",
        "outputId": "adbea49a-5e16-4d3a-ab4e-e13042d953dd"
      },
      "source": [
        "#calculating imbalance in the data\r\n",
        "total_y = len(stop_search_df[\"SUSPECT_ARRESTED_FLAG\"])\r\n",
        "\r\n",
        "class_0 = (stop_search_df[\"SUSPECT_ARRESTED_FLAG\"] == \"N\").sum()\r\n",
        "class_1 = (stop_search_df[\"SUSPECT_ARRESTED_FLAG\"] == \"Y\").sum()\r\n",
        "\r\n",
        "#imbalance in classes\r\n",
        "percentage_class_0 = (class_0/total_y)*100\r\n",
        "print(\"Percentage of observations belonging to class N (Not arrested) = \" , percentage_class_0)"
      ],
      "execution_count": 29,
      "outputs": [
        {
          "output_type": "stream",
          "text": [
            "Percentage of observations belonging to class N (Not arrested) =  67.9916784307898\n"
          ],
          "name": "stdout"
        }
      ]
    },
    {
      "cell_type": "code",
      "metadata": {
        "colab": {
          "base_uri": "https://localhost:8080/",
          "height": 297
        },
        "id": "0Fwm1RolXkBT",
        "outputId": "71a57cd6-60f4-4ce9-e493-f7e5124c760a"
      },
      "source": [
        "#imbalance in data\r\n",
        "sns.countplot(x = \"SUSPECT_ARRESTED_FLAG\", data = stop_search_df)"
      ],
      "execution_count": 30,
      "outputs": [
        {
          "output_type": "execute_result",
          "data": {
            "text/plain": [
              "<matplotlib.axes._subplots.AxesSubplot at 0x7f1059ed1590>"
            ]
          },
          "metadata": {
            "tags": []
          },
          "execution_count": 30
        },
        {
          "output_type": "display_data",
          "data": {
            "image/png": "[encoded data removed]",
            "text/plain": [
              "<Figure size 432x288 with 1 Axes>"
            ]
          },
          "metadata": {
            "tags": [],
            "needs_background": "light"
          }
        }
      ]
    },
    {
      "cell_type": "markdown",
      "metadata": {
        "id": "5DZkjAsnFnOg"
      },
      "source": [
        "Is the data biased?\r\n",
        "\r\n",
        "\r\n"
      ]
    },
    {
      "cell_type": "code",
      "metadata": {
        "colab": {
          "base_uri": "https://localhost:8080/"
        },
        "id": "F5w-SJy9A_kz",
        "outputId": "2e100d4f-8f9c-4f75-c9f4-68936f0d29b9"
      },
      "source": [
        "#does the data suggest racial bias?\r\n",
        "#racial distribution of subjects stopped\r\n",
        "stop_search_df[\"RACE\"].value_counts()"
      ],
      "execution_count": 31,
      "outputs": [
        {
          "output_type": "execute_result",
          "data": {
            "text/plain": [
              "Non-White    12159\n",
              "White         1215\n",
              "Unknown         85\n",
              "Name: RACE, dtype: int64"
            ]
          },
          "metadata": {
            "tags": []
          },
          "execution_count": 31
        }
      ]
    },
    {
      "cell_type": "code",
      "metadata": {
        "colab": {
          "base_uri": "https://localhost:8080/",
          "height": 296
        },
        "id": "ZS1w5wQkXnKG",
        "outputId": "9a39c519-650d-4de6-f909-beb8e7b1e7c7"
      },
      "source": [
        "#racial distribution of subjects stopped\r\n",
        "sns.countplot(x = \"RACE\", data = stop_search_df)"
      ],
      "execution_count": 32,
      "outputs": [
        {
          "output_type": "execute_result",
          "data": {
            "text/plain": [
              "<matplotlib.axes._subplots.AxesSubplot at 0x7f105a0d7990>"
            ]
          },
          "metadata": {
            "tags": []
          },
          "execution_count": 32
        },
        {
          "output_type": "display_data",
          "data": {
            "image/png": "[encoded data removed]",
            "text/plain": [
              "<Figure size 432x288 with 1 Axes>"
            ]
          },
          "metadata": {
            "tags": [],
            "needs_background": "light"
          }
        }
      ]
    },
    {
      "cell_type": "markdown",
      "metadata": {
        "id": "XMYh3dPd0yGV"
      },
      "source": [
        "91% of non-whites were stopped, in contrast to 9% of whites."
      ]
    },
    {
      "cell_type": "code",
      "metadata": {
        "colab": {
          "base_uri": "https://localhost:8080/",
          "height": 439
        },
        "id": "ktJb2H7Wd0U_",
        "outputId": "0103907e-a5ce-4af0-9b97-84626e2473af"
      },
      "source": [
        "#racial distribution of subjects stopped\r\n",
        "sns.countplot(x=\"SUSPECT_RACE_DESCRIPTION\", data=stop_search_df)\r\n",
        "plt.xticks(rotation=90)"
      ],
      "execution_count": 51,
      "outputs": [
        {
          "output_type": "execute_result",
          "data": {
            "text/plain": [
              "(array([0, 1, 2, 3, 4, 5, 6]), <a list of 7 Text major ticklabel objects>)"
            ]
          },
          "metadata": {
            "tags": []
          },
          "execution_count": 51
        },
        {
          "output_type": "display_data",
          "data": {
            "image/png": "[encoded data removed]",
            "text/plain": [
              "<Figure size 432x288 with 1 Axes>"
            ]
          },
          "metadata": {
            "tags": [],
            "needs_background": "light"
          }
        }
      ]
    },
    {
      "cell_type": "code",
      "metadata": {
        "colab": {
          "base_uri": "https://localhost:8080/"
        },
        "id": "xEUcE-nGA_jP",
        "outputId": "2e6cdaa3-d68d-4542-e6c5-ca6ddab583c8"
      },
      "source": [
        "#does the data suggest gender bias?\r\n",
        "stop_search_df[\"SUSPECT_SEX\"].value_counts()"
      ],
      "execution_count": 34,
      "outputs": [
        {
          "output_type": "execute_result",
          "data": {
            "text/plain": [
              "MALE       12179\n",
              "FEMALE      1230\n",
              "Unknown       50\n",
              "Name: SUSPECT_SEX, dtype: int64"
            ]
          },
          "metadata": {
            "tags": []
          },
          "execution_count": 34
        }
      ]
    },
    {
      "cell_type": "code",
      "metadata": {
        "colab": {
          "base_uri": "https://localhost:8080/",
          "height": 297
        },
        "id": "GTLaCUMbXrkN",
        "outputId": "945306b9-99b4-42a4-c1c6-763b097066b6"
      },
      "source": [
        "#count of different genders in the data\r\n",
        "sns.countplot(x=\"SUSPECT_SEX\", data=stop_search_df)"
      ],
      "execution_count": 35,
      "outputs": [
        {
          "output_type": "execute_result",
          "data": {
            "text/plain": [
              "<matplotlib.axes._subplots.AxesSubplot at 0x7f10598b6b90>"
            ]
          },
          "metadata": {
            "tags": []
          },
          "execution_count": 35
        },
        {
          "output_type": "display_data",
          "data": {
            "image/png": "[encoded data removed]",
            "text/plain": [
              "<Figure size 432x288 with 1 Axes>"
            ]
          },
          "metadata": {
            "tags": [],
            "needs_background": "light"
          }
        }
      ]
    },
    {
      "cell_type": "markdown",
      "metadata": {
        "id": "_SXLexgR09AA"
      },
      "source": [
        "91% and 9% of the subjects stopped were male and female, respectively."
      ]
    },
    {
      "cell_type": "markdown",
      "metadata": {
        "id": "n4jA6BV5XwX7"
      },
      "source": [
        "Suspect arrest data:"
      ]
    },
    {
      "cell_type": "code",
      "metadata": {
        "colab": {
          "base_uri": "https://localhost:8080/",
          "height": 297
        },
        "id": "WGkxzYqrX3o1",
        "outputId": "ef3cc939-fe18-4629-eccb-d6ef922f17ad"
      },
      "source": [
        "#racial distribution of the subjects arrested\r\n",
        "arrested_df = stop_search_df[stop_search_df[\"SUSPECT_ARRESTED_FLAG\"] == \"Y\"]\r\n",
        "sns.countplot(x = \"RACE\", data = arrested_df)"
      ],
      "execution_count": 36,
      "outputs": [
        {
          "output_type": "execute_result",
          "data": {
            "text/plain": [
              "<matplotlib.axes._subplots.AxesSubplot at 0x7f1059816750>"
            ]
          },
          "metadata": {
            "tags": []
          },
          "execution_count": 36
        },
        {
          "output_type": "display_data",
          "data": {
            "image/png": "[encoded data removed]",
            "text/plain": [
              "<Figure size 432x288 with 1 Axes>"
            ]
          },
          "metadata": {
            "tags": [],
            "needs_background": "light"
          }
        }
      ]
    },
    {
      "cell_type": "code",
      "metadata": {
        "colab": {
          "base_uri": "https://localhost:8080/"
        },
        "id": "8fTgrrt2kHGR",
        "outputId": "757e018f-d8f0-4931-df7a-3b1467528c07"
      },
      "source": [
        "arrested_df[\"RACE\"].value_counts()"
      ],
      "execution_count": 37,
      "outputs": [
        {
          "output_type": "execute_result",
          "data": {
            "text/plain": [
              "Non-White    3867\n",
              "White         417\n",
              "Unknown        24\n",
              "Name: RACE, dtype: int64"
            ]
          },
          "metadata": {
            "tags": []
          },
          "execution_count": 37
        }
      ]
    },
    {
      "cell_type": "markdown",
      "metadata": {
        "id": "TV96i6oA1G5d"
      },
      "source": [
        "32% of non-whites stopped and 34% of the whites stopped were arrested."
      ]
    },
    {
      "cell_type": "code",
      "metadata": {
        "colab": {
          "base_uri": "https://localhost:8080/",
          "height": 439
        },
        "id": "n0SWr7apX3lb",
        "outputId": "0b5d0925-3f65-4261-a610-bd9428a3008c"
      },
      "source": [
        "sns.countplot(x = \"SUSPECT_RACE_DESCRIPTION\", data = arrested_df)\r\n",
        "plt.xticks(rotation = 90)"
      ],
      "execution_count": 52,
      "outputs": [
        {
          "output_type": "execute_result",
          "data": {
            "text/plain": [
              "(array([0, 1, 2, 3, 4, 5, 6]), <a list of 7 Text major ticklabel objects>)"
            ]
          },
          "metadata": {
            "tags": []
          },
          "execution_count": 52
        },
        {
          "output_type": "display_data",
          "data": {
            "image/png": "[encoded data removed]",
            "text/plain": [
              "<Figure size 432x288 with 1 Axes>"
            ]
          },
          "metadata": {
            "tags": [],
            "needs_background": "light"
          }
        }
      ]
    },
    {
      "cell_type": "code",
      "metadata": {
        "colab": {
          "base_uri": "https://localhost:8080/",
          "height": 299
        },
        "id": "ceH22voTmrqp",
        "outputId": "33ed3020-57ff-45e4-becc-27e0edc30ae1"
      },
      "source": [
        "#gender distribution of the subjects arrested\r\n",
        "sns.countplot(x = \"SUSPECT_SEX\", data = arrested_df)"
      ],
      "execution_count": 53,
      "outputs": [
        {
          "output_type": "execute_result",
          "data": {
            "text/plain": [
              "<matplotlib.axes._subplots.AxesSubplot at 0x7f1059428890>"
            ]
          },
          "metadata": {
            "tags": []
          },
          "execution_count": 53
        },
        {
          "output_type": "display_data",
          "data": {
            "image/png": "[encoded data removed]",
            "text/plain": [
              "<Figure size 432x288 with 1 Axes>"
            ]
          },
          "metadata": {
            "tags": [],
            "needs_background": "light"
          }
        }
      ]
    },
    {
      "cell_type": "code",
      "metadata": {
        "colab": {
          "base_uri": "https://localhost:8080/"
        },
        "id": "YTbFEVevmroM",
        "outputId": "4191abe3-88fb-469f-d798-ccbb1c4550af"
      },
      "source": [
        "arrested_df[\"SUSPECT_SEX\"].value_counts()"
      ],
      "execution_count": 54,
      "outputs": [
        {
          "output_type": "execute_result",
          "data": {
            "text/plain": [
              "MALE       3848\n",
              "FEMALE      447\n",
              "Unknown      13\n",
              "Name: SUSPECT_SEX, dtype: int64"
            ]
          },
          "metadata": {
            "tags": []
          },
          "execution_count": 54
        }
      ]
    },
    {
      "cell_type": "markdown",
      "metadata": {
        "id": "UM7r23FG1Ye8"
      },
      "source": [
        "32% of male subjects and 36% of female subjects were arrested."
      ]
    },
    {
      "cell_type": "markdown",
      "metadata": {
        "id": "tWcA9ynJMt2b"
      },
      "source": [
        "Frisked data:"
      ]
    },
    {
      "cell_type": "code",
      "metadata": {
        "colab": {
          "base_uri": "https://localhost:8080/",
          "height": 301
        },
        "id": "gLm0ufXHb254",
        "outputId": "b507bc5a-c84b-42f6-9476-4cd4193a140f"
      },
      "source": [
        "#frisk data\r\n",
        "sns.countplot(x = \"FRISKED_FLAG\", data = stop_search_df)"
      ],
      "execution_count": 39,
      "outputs": [
        {
          "output_type": "execute_result",
          "data": {
            "text/plain": [
              "<matplotlib.axes._subplots.AxesSubplot at 0x7f10597db050>"
            ]
          },
          "metadata": {
            "tags": []
          },
          "execution_count": 39
        },
        {
          "output_type": "display_data",
          "data": {
            "image/png": "[encoded data removed]",
            "text/plain": [
              "<Figure size 432x288 with 1 Axes>"
            ]
          },
          "metadata": {
            "tags": [],
            "needs_background": "light"
          }
        }
      ]
    },
    {
      "cell_type": "code",
      "metadata": {
        "colab": {
          "base_uri": "https://localhost:8080/",
          "height": 296
        },
        "id": "FSkFyrc0guhD",
        "outputId": "fa85fb87-d039-434f-958f-81d4cfa6bafb"
      },
      "source": [
        "#racial distribution of subjects frisked\r\n",
        "frisked_df = stop_search_df[stop_search_df[\"FRISKED_FLAG\"] == \"Y\"]\r\n",
        "sns.countplot(x = \"RACE\", data = frisked_df)"
      ],
      "execution_count": 40,
      "outputs": [
        {
          "output_type": "execute_result",
          "data": {
            "text/plain": [
              "<matplotlib.axes._subplots.AxesSubplot at 0x7f10597533d0>"
            ]
          },
          "metadata": {
            "tags": []
          },
          "execution_count": 40
        },
        {
          "output_type": "display_data",
          "data": {
            "image/png": "[encoded data removed]",
            "text/plain": [
              "<Figure size 432x288 with 1 Axes>"
            ]
          },
          "metadata": {
            "tags": [],
            "needs_background": "light"
          }
        }
      ]
    },
    {
      "cell_type": "code",
      "metadata": {
        "colab": {
          "base_uri": "https://localhost:8080/"
        },
        "id": "x5UifehcnJge",
        "outputId": "30d29a70-672f-427c-b4a9-b47be752669c"
      },
      "source": [
        "frisked_df[\"RACE\"].value_counts()"
      ],
      "execution_count": 55,
      "outputs": [
        {
          "output_type": "execute_result",
          "data": {
            "text/plain": [
              "Non-White    7044\n",
              "White         528\n",
              "Unknown        52\n",
              "Name: RACE, dtype: int64"
            ]
          },
          "metadata": {
            "tags": []
          },
          "execution_count": 55
        }
      ]
    },
    {
      "cell_type": "markdown",
      "metadata": {
        "id": "2LIDUFaq1jUy"
      },
      "source": [
        "58% of non-whites were frisked; 43% of whites were frisked."
      ]
    },
    {
      "cell_type": "code",
      "metadata": {
        "colab": {
          "base_uri": "https://localhost:8080/",
          "height": 297
        },
        "id": "RFXNT7HMg0lM",
        "outputId": "69bee076-c13a-47e2-ec85-cf4085aa08b3"
      },
      "source": [
        "#gender distribution of subjects frisked\r\n",
        "sns.countplot(x = \"SUSPECT_SEX\", data = frisked_df)"
      ],
      "execution_count": 41,
      "outputs": [
        {
          "output_type": "execute_result",
          "data": {
            "text/plain": [
              "<matplotlib.axes._subplots.AxesSubplot at 0x7f105973be10>"
            ]
          },
          "metadata": {
            "tags": []
          },
          "execution_count": 41
        },
        {
          "output_type": "display_data",
          "data": {
            "image/png": "[encoded data removed]",
            "text/plain": [
              "<Figure size 432x288 with 1 Axes>"
            ]
          },
          "metadata": {
            "tags": [],
            "needs_background": "light"
          }
        }
      ]
    },
    {
      "cell_type": "code",
      "metadata": {
        "colab": {
          "base_uri": "https://localhost:8080/"
        },
        "id": "gksa6HjlnT--",
        "outputId": "9bd38b1b-05aa-4d9d-f056-b82d3e5ff8b7"
      },
      "source": [
        "frisked_df[\"SUSPECT_SEX\"].value_counts()"
      ],
      "execution_count": 56,
      "outputs": [
        {
          "output_type": "execute_result",
          "data": {
            "text/plain": [
              "MALE       7234\n",
              "FEMALE      363\n",
              "Unknown      27\n",
              "Name: SUSPECT_SEX, dtype: int64"
            ]
          },
          "metadata": {
            "tags": []
          },
          "execution_count": 56
        }
      ]
    },
    {
      "cell_type": "markdown",
      "metadata": {
        "id": "K8JDSFRc1vXa"
      },
      "source": [
        "59% of male and 30% of female were frisked."
      ]
    },
    {
      "cell_type": "markdown",
      "metadata": {
        "id": "kBPmiaLoMmP9"
      },
      "source": [
        "Searched data:\r\n",
        "\r\n",
        "\r\n",
        "\r\n"
      ]
    },
    {
      "cell_type": "code",
      "metadata": {
        "colab": {
          "base_uri": "https://localhost:8080/",
          "height": 297
        },
        "id": "JZ8IJf_CcSbZ",
        "outputId": "a55bb588-3c34-4838-d798-8ffab0929426"
      },
      "source": [
        "#searched data\r\n",
        "sns.countplot(x = \"SEARCHED_FLAG\", data = stop_search_df)"
      ],
      "execution_count": 42,
      "outputs": [
        {
          "output_type": "execute_result",
          "data": {
            "text/plain": [
              "<matplotlib.axes._subplots.AxesSubplot at 0x7f105969fbd0>"
            ]
          },
          "metadata": {
            "tags": []
          },
          "execution_count": 42
        },
        {
          "output_type": "display_data",
          "data": {
            "image/png": "[encoded data removed]",
            "text/plain": [
              "<Figure size 432x288 with 1 Axes>"
            ]
          },
          "metadata": {
            "tags": [],
            "needs_background": "light"
          }
        }
      ]
    },
    {
      "cell_type": "code",
      "metadata": {
        "colab": {
          "base_uri": "https://localhost:8080/",
          "height": 296
        },
        "id": "KrUbQf9FGz2c",
        "outputId": "6f0479f8-142b-424c-98d2-6a32ca65f6b5"
      },
      "source": [
        "#racial distributions of subjects searched\r\n",
        "searched_df = stop_search_df[stop_search_df[\"SEARCHED_FLAG\"] == \"Y\"]\r\n",
        "sns.countplot(x = \"RACE\", data = searched_df)"
      ],
      "execution_count": 43,
      "outputs": [
        {
          "output_type": "execute_result",
          "data": {
            "text/plain": [
              "<matplotlib.axes._subplots.AxesSubplot at 0x7f10596862d0>"
            ]
          },
          "metadata": {
            "tags": []
          },
          "execution_count": 43
        },
        {
          "output_type": "display_data",
          "data": {
            "image/png": "[encoded data removed]",
            "text/plain": [
              "<Figure size 432x288 with 1 Axes>"
            ]
          },
          "metadata": {
            "tags": [],
            "needs_background": "light"
          }
        }
      ]
    },
    {
      "cell_type": "code",
      "metadata": {
        "colab": {
          "base_uri": "https://localhost:8080/"
        },
        "id": "gSPPL91RneVG",
        "outputId": "263a8ab3-a363-4974-c522-33bf136a50d1"
      },
      "source": [
        "searched_df[\"RACE\"].value_counts()"
      ],
      "execution_count": 57,
      "outputs": [
        {
          "output_type": "execute_result",
          "data": {
            "text/plain": [
              "Non-White    4485\n",
              "White         478\n",
              "Unknown        25\n",
              "Name: RACE, dtype: int64"
            ]
          },
          "metadata": {
            "tags": []
          },
          "execution_count": 57
        }
      ]
    },
    {
      "cell_type": "markdown",
      "metadata": {
        "id": "qHOy5h1_1_R1"
      },
      "source": [
        "37% of non-whites and 39% of whites were searched."
      ]
    },
    {
      "cell_type": "code",
      "metadata": {
        "colab": {
          "base_uri": "https://localhost:8080/",
          "height": 297
        },
        "id": "dTtizogagbZw",
        "outputId": "0e76548c-ea3d-49d4-83aa-e7dcef4e6ad2"
      },
      "source": [
        "#gender distributions of subjects searched\r\n",
        "sns.countplot(x = \"SUSPECT_SEX\", data = searched_df)"
      ],
      "execution_count": 44,
      "outputs": [
        {
          "output_type": "execute_result",
          "data": {
            "text/plain": [
              "<matplotlib.axes._subplots.AxesSubplot at 0x7f10595e08d0>"
            ]
          },
          "metadata": {
            "tags": []
          },
          "execution_count": 44
        },
        {
          "output_type": "display_data",
          "data": {
            "image/png": "[encoded data removed]",
            "text/plain": [
              "<Figure size 432x288 with 1 Axes>"
            ]
          },
          "metadata": {
            "tags": [],
            "needs_background": "light"
          }
        }
      ]
    },
    {
      "cell_type": "code",
      "metadata": {
        "colab": {
          "base_uri": "https://localhost:8080/"
        },
        "id": "w0ewlG8Nnn1L",
        "outputId": "9e680d57-231c-4df8-a9d2-f18e45d67dc9"
      },
      "source": [
        "searched_df[\"SUSPECT_SEX\"].value_counts()"
      ],
      "execution_count": 59,
      "outputs": [
        {
          "output_type": "execute_result",
          "data": {
            "text/plain": [
              "MALE       4595\n",
              "FEMALE      381\n",
              "Unknown      12\n",
              "Name: SUSPECT_SEX, dtype: int64"
            ]
          },
          "metadata": {
            "tags": []
          },
          "execution_count": 59
        }
      ]
    },
    {
      "cell_type": "markdown",
      "metadata": {
        "id": "AGDucmNW2H7O"
      },
      "source": [
        "38% of male and 31% of female were searched."
      ]
    },
    {
      "cell_type": "markdown",
      "metadata": {
        "id": "jhz9Jf9hnBlD"
      },
      "source": [
        "Data Preprocessing:"
      ]
    },
    {
      "cell_type": "code",
      "metadata": {
        "id": "e9ZJj8gCn-xu"
      },
      "source": [
        "#target column\r\n",
        "y = stop_search_df[\"SUSPECT_ARRESTED_FLAG\"]\r\n",
        "#label encoding target column\r\n",
        "le = LabelEncoder()\r\n",
        "y_df = le.fit_transform(y)"
      ],
      "execution_count": 45,
      "outputs": []
    },
    {
      "cell_type": "code",
      "metadata": {
        "id": "JvCd48mBNCoS"
      },
      "source": [
        "#features\r\n",
        "categorical_columns = [\"SUSPECTED_CRIME_DESCRIPTION\",\"SUSPECT_ARREST_OFFENSE\",\"SUMMONS_ISSUED_FLAG\",\"FRISKED_FLAG\",\"SEARCHED_FLAG\",\"OTHER_CONTRABAND_FLAG\",\r\n",
        "                       \"WEAPON_FOUND_FLAG\",\"SUSPECT_SEX\",\"SUSPECT_RACE_DESCRIPTION\",\"STOP_LOCATION_STREET_NAME\"]\r\n",
        "#one-hot encoding categorical input variables\r\n",
        "x_df = pd.get_dummies(stop_search_df[categorical_columns])"
      ],
      "execution_count": 46,
      "outputs": []
    },
    {
      "cell_type": "code",
      "metadata": {
        "id": "FsH4SpKELxrA"
      },
      "source": [
        "#numerical features\r\n",
        "numerical_columns = [\"STOP_DURATION_MINUTES\",\"SUSPECT_REPORTED_AGE\"]"
      ],
      "execution_count": 47,
      "outputs": []
    },
    {
      "cell_type": "markdown",
      "metadata": {
        "id": "Wua5FB_UZbF0"
      },
      "source": [
        "Objective:"
      ]
    },
    {
      "cell_type": "markdown",
      "metadata": {
        "id": "mG1vrX_qN-PX"
      },
      "source": [
        "We want to train a classification model to classify whether a subject stopped will be arrested or not."
      ]
    },
    {
      "cell_type": "markdown",
      "metadata": {
        "id": "IFYSwNS0Za99"
      },
      "source": [
        "The target/outcome variable is given by \"SUSPECT_ARRESTED_FLAG\" column in the dataset.\r\n"
      ]
    },
    {
      "cell_type": "markdown",
      "metadata": {
        "id": "9S5-W1ZEZsLG"
      },
      "source": [
        "We will initially select important attributes about subject like gender, race, frisk, search, suspicion as the input variables to train the model."
      ]
    },
    {
      "cell_type": "markdown",
      "metadata": {
        "id": "ITLaWiAMIVHD"
      },
      "source": [
        "Further, feature selection methods like Recursive Feature Elimination and GridSearchCV in scikit-learn will be used to find the important features for model training and better performance."
      ]
    },
    {
      "cell_type": "markdown",
      "metadata": {
        "id": "YfFeqd07N8Kf"
      },
      "source": [
        " The objective is to detect whether sensitive features like gender and race of the subject determines the outcome, arrest or no arrest. In addition, the observed bias is to be reduced, to make the model more reliable."
      ]
    },
    {
      "cell_type": "markdown",
      "metadata": {
        "id": "nDC4SRDBaKvX"
      },
      "source": [
        "Sensitive features:"
      ]
    },
    {
      "cell_type": "code",
      "metadata": {
        "id": "r1VR5rbcIT5o"
      },
      "source": [
        "#case 1 : racial bias\r\n",
        "privileged_group = stop_search_df[stop_search_df[\"RACE\"] == \"Whites\"]\r\n",
        "underprivileged_group = stop_search_df[stop_search_df[\"RACE\"] == \"Non-Whites\"]"
      ],
      "execution_count": 48,
      "outputs": []
    },
    {
      "cell_type": "code",
      "metadata": {
        "id": "CB73v3etIT2p"
      },
      "source": [
        "#case 2 : gender bias\r\n",
        "privileged_group = stop_search_df[stop_search_df[\"SUSPECT_SEX\"] == \"FEMALE\"]\r\n",
        "underprivileged_group = stop_search_df[stop_search_df[\"SUSPECT_SEX\"] == \"MALE\"]"
      ],
      "execution_count": 49,
      "outputs": []
    },
    {
      "cell_type": "code",
      "metadata": {
        "id": "1kbYVCLkIT0J"
      },
      "source": [
        ""
      ],
      "execution_count": null,
      "outputs": []
    }
  ]
}